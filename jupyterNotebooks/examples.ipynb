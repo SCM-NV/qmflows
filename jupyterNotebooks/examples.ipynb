{
 "cells": [
  {
   "cell_type": "markdown",
   "metadata": {},
   "source": [
    "# Examples\n",
    "\n",
    "This notebook contains a set of examples created with **QMWorks**"
   ]
  },
  {
   "cell_type": "markdown",
   "metadata": {},
   "source": [
    "# Orca Examples\n",
    "\n",
    "### dipole calculation"
   ]
  },
  {
   "cell_type": "code",
   "execution_count": 1,
   "metadata": {
    "collapsed": true
   },
   "outputs": [],
   "source": [
    "from plams import Molecule\n",
    "from qmworks import (orca, run, Settings, templates)\n",
    "import plams\n",
    "\n",
    "def test_opt_orca():\n",
    "    \"\"\"\n",
    "    Orca dipoole calculation\n",
    "    \"\"\"\n",
    "    plams.init()\n",
    "    h2o = Molecule('files/h2o.xyz', 'xyz', charge=0, multiplicity=1)\n",
    "\n",
    "    s = Settings()\n",
    "\n",
    "    s.basis = \"sto_dzp\"\n",
    "\n",
    "    r = templates.singlepoint.overlay(s)\n",
    "    \n",
    "    h2o_singlepoint = orca(r, h2o)\n",
    "\n",
    "    dipole = h2o_singlepoint.dipole\n",
    "\n",
    "    final_result = run(dipole)\n",
    "\n",
    "    print(final_result)\n",
    "\n",
    "    plams.finish()\n"
   ]
  },
  {
   "cell_type": "markdown",
   "metadata": {},
   "source": [
    "**Note**: the `plams.init()` method must be called only once in an script otherwise if would rise an error."
   ]
  },
  {
   "cell_type": "code",
   "execution_count": null,
   "metadata": {
    "collapsed": true
   },
   "outputs": [],
   "source": [
    "from qmworks import (orca, run, Settings)\n",
    "import plams\n",
    "\n",
    "def test_methanol_opt_orca():\n",
    "    \"\"\"\n",
    "    Run a methanol optimization and retrieve the optimized geom.\n",
    "    \"\"\"\n",
    "    plams.init()\n",
    "    methanol = Molecule('files/methanol.xyz')\n",
    "\n",
    "    s = Settings()\n",
    "    \n",
    "    s.specific.orca.main = \"RKS B3LYP SVP Opt TightSCF SmallPrint\"\n",
    "\n",
    "    opt = orca(s, methanol, job_name=\"opt_methanol\")\n",
    "\n",
    "    mol_opt = run(opt.molecule)\n",
    "\n",
    "    print(mol_opt)\n",
    "    \n",
    "    plams.finish()"
   ]
  },
  {
   "cell_type": "markdown",
   "metadata": {},
   "source": [
    "## Gamess Examples"
   ]
  }
 ],
 "metadata": {
  "kernelspec": {
   "display_name": "Python [conda env:qmworks]",
   "language": "python",
   "name": "conda-env-qmworks-py"
  },
  "language_info": {
   "codemirror_mode": {
    "name": "ipython",
    "version": 3
   },
   "file_extension": ".py",
   "mimetype": "text/x-python",
   "name": "python",
   "nbconvert_exporter": "python",
   "pygments_lexer": "ipython3",
   "version": "3.5.2"
  }
 },
 "nbformat": 4,
 "nbformat_minor": 1
}
