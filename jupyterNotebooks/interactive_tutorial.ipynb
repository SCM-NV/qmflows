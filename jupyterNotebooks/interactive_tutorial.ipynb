{
 "cells": [
  {
   "cell_type": "markdown",
   "metadata": {},
   "source": [
    "# <font color='green'> TUTORIAL </font>\n",
    "## <font color='green'> 1. Installation in Unix </font> \n",
    "\n",
    "  - conda installation. Type in your console the following command:   \n",
    "   ```bash\n",
    "   wget https://repo.continuum.io/miniconda/Miniconda3-latest-Linux-x86_64.sh -O miniconda.sh\n",
    "   ```\n",
    "   \n",
    "  - then add miniconda to your path   \n",
    "   ```bash\n",
    "   bash miniconda.sh -b -p $HOME/miniconda\n",
    "   ```\n",
    "   \n",
    "  \n",
    "  - create new virtual environment\n",
    "   ```bash\n",
    "   conda create -q -n qmworks python=3.5\n",
    "   ```\n",
    "    \n",
    "  - Install dependecies\n",
    "   ```bash \n",
    "   conda install --name qmworks -c anaconda hdf5\n",
    "   conda install --name qmworks -c https://conda.anaconda.org/rdkit rdkit\n",
    "   ```\n",
    "    \n",
    "  - Start environment\n",
    "   ```bash\n",
    "   source activate qmworks\n",
    "   ``` \n",
    "   \n",
    "  - install **qmworks** dependencies\n",
    "    ```bash\n",
    "     pip install https://github.com/SCM-NV/qmworks/tarball/master#egg=qmworks https://github.com/SCM-NV/plams/tarball/master#egg=plams --upgrade\n",
    "    ```\n",
    "### You are ready to start!"
   ]
  },
  {
   "cell_type": "markdown",
   "metadata": {},
   "source": [
    "# <font color='green'> Starting the environment  </font>\n",
    "Once *QMWORKS*  has been installed the user should run the following command to initialize the environment:"
   ]
  },
  {
   "cell_type": "markdown",
   "metadata": {},
   "source": [
    "```bash\n",
    "[user@int1 ~]$ source activate qmworks\n",
    "discarding /home/user/anaconda3/bin from PATH\n",
    "prepending /home/user/anaconda3/envs/qmworks/bin to PATH\n",
    "(qmworks)[user@int1 ~]$ python --version\n",
    "Python 3.5.2 :: Anaconda custom (64-bit)\n",
    "```"
   ]
  },
  {
   "cell_type": "markdown",
   "metadata": {},
   "source": [
    "To leave the environment the following command is used"
   ]
  },
  {
   "cell_type": "markdown",
   "metadata": {},
   "source": [
    "```bash\n",
    "(qmworks)[user@int1 ~]$ source deactivate\n",
    "discarding /home/user/anaconda3/envs/qmworks/bin from PATH\n",
    "```"
   ]
  },
  {
   "cell_type": "markdown",
   "metadata": {},
   "source": [
    "To finalize preparations before running QMworks: if you don't want the results  to end up in the current work directory, create a new results folder."
   ]
  },
  {
   "cell_type": "code",
   "execution_count": 1,
   "metadata": {
    "collapsed": false
   },
   "outputs": [],
   "source": [
    "mkdir tutorial_results"
   ]
  },
  {
   "cell_type": "markdown",
   "metadata": {},
   "source": [
    "# <font color='green'> What is QMworks?</font>\n",
    "QMworks is a python library that enables executing complicated workflows of interdependent quantum chemical (QM) calculations in python. It aims at providing a common interface to multiple QM packages, enabling easy and systematic generation of the calculation inputs, as well as facilitating automatic analysis of the results. Furthermore it is build on top of the powerful Noodles framework for executing the calculations in parallel where possible."
   ]
  },
  {
   "cell_type": "markdown",
   "metadata": {},
   "source": [
    "# <font color='green'> The basics: calling packages</font> \n",
    "Currently **QMWORKS** offers an interface with the following simulation software:\n",
    "*  **SCM (ADF and DTFB)**\n",
    "*  **CP2K**\n",
    "* **ORCA**\n",
    "* **GAMESS-US**\n",
    "* **DIRAC**\n",
    "\n",
    "<font color='red'> Please make sure that the packages you want to use in QMworks are installed and active; in most supercomputer the simulation package are available using a command like (consult your system administrator):\n",
    "```bash\n",
    "load module superAwesomeQuantumPackage/3.1421\n",
    "```\n",
    "Also some simulation packages required that you configure a `scratch` folder. For instance *Orca* requires a **SCR** folder to be defnied while *ADF*  called it **SCM_TMPDIR**.\n",
    "\n",
    "\n",
    "<font color='black'> With ``qmworks`` you can write a python script that simply calls one of the package objects \n",
    "**adf, dftb, cp2k, orca, gamess** or **dirac**.\n",
    "As arguments to the call, you need to provide a ``settings`` objects defining the input of a calculation, a molecular geometry, and, optionally, a job name that enables you to find back the \"raw\" data of the calculation later on.\n",
    "\n",
    "Let's see how this works:\n",
    "\n",
    "First we define a molecule, for example by reading one from an xyz file:"
   ]
  },
  {
   "cell_type": "code",
   "execution_count": 2,
   "metadata": {
    "collapsed": false,
    "scrolled": true
   },
   "outputs": [
    {
     "name": "stdout",
     "output_type": "stream",
     "text": [
      "  Atoms: \n",
      "    1         C      2.419290      0.606560      0.000000 \n",
      "    2         C      1.671470      1.829570      0.000000 \n",
      "    3         N      1.065290      2.809960      0.000000 \n",
      "    4         H      2.000000      0.000000      1.000000 \n",
      "    5         H      2.000000      0.000000     -1.000000 \n",
      "    6         H      3.600000      0.800000      0.000000 \n",
      "\n"
     ]
    }
   ],
   "source": [
    "from plams import Molecule\n",
    "acetonitrile = Molecule(\"files/acetonitrile.xyz\")\n",
    "print(acetonitrile)"
   ]
  },
  {
   "cell_type": "markdown",
   "metadata": {},
   "source": [
    "Then we can perform geometry optimization on the molecule by a call to the dftb package object:"
   ]
  },
  {
   "cell_type": "code",
   "execution_count": 3,
   "metadata": {
    "collapsed": false
   },
   "outputs": [
    {
     "name": "stdout",
     "output_type": "stream",
     "text": [
      "<noodles.interface.decorator.PromisedObject object at 0x7f323c882c50>\n"
     ]
    }
   ],
   "source": [
    "from qmworks import dftb, templates, run\n",
    "job = dftb(templates.geometry, acetonitrile)\n",
    "print(job)"
   ]
  },
  {
   "cell_type": "markdown",
   "metadata": {},
   "source": [
    "As you can see, \"job\" is a so-called \"promised object\". It means it first needs to be \"run\" by the Noodles scheduler to return a normal python object."
   ]
  },
  {
   "cell_type": "code",
   "execution_count": 5,
   "metadata": {
    "collapsed": false
   },
   "outputs": [
    {
     "name": "stdout",
     "output_type": "stream",
     "text": [
      "[22:12:20] PLAMS working folder: /home/lars/workspace/qmworks/jupyterNotebooks/tutorial_results/plams.16671\n",
      "╭─(running jobs)\n",
      "│ Running dftb ...\n",
      "\u001b[s\u001b[1A╰─(success)\n",
      "<qmworks.packages.SCM.DFTB_Result object at 0x7f323c837b38>\n",
      "\u001b[50C(\u001b[38;2;60;180;100m✔\u001b[0m)\u001b[u"
     ]
    }
   ],
   "source": [
    "result = run(job, path=\"tutorial_results\", cache=\"tutorial_cache.json\")\n",
    "print(result)"
   ]
  },
  {
   "cell_type": "markdown",
   "metadata": {},
   "source": [
    "We can easily retrieve the calculated properties from the DFTB calculation such as the dipole or the optimized geometry for use in subsequent calculations."
   ]
  },
  {
   "cell_type": "code",
   "execution_count": 6,
   "metadata": {
    "collapsed": false
   },
   "outputs": [
    {
     "name": "stdout",
     "output_type": "stream",
     "text": [
      "Dipole:  [1.0864213029, -1.9278296041, 0.0]\n",
      "  Atoms: \n",
      "    1         C      2.366998      0.579794      0.000000 \n",
      "    2         C      1.660642      1.834189     -0.000000 \n",
      "    3         N      1.089031      2.847969     -0.000000 \n",
      "    4         H      2.100157      0.010030      0.887206 \n",
      "    5         H      2.100157      0.010030     -0.887206 \n",
      "    6         H      3.439065      0.764079      0.000000 \n",
      "\n"
     ]
    }
   ],
   "source": [
    "print(\"Dipole: \", result.dipole)\n",
    "print(result.molecule)"
   ]
  },
  {
   "cell_type": "markdown",
   "metadata": {},
   "source": [
    "# <font color='green'> Settings and templates</font> \n",
    "In the above example ``templates.geometry`` was actually a predefined Settings object.\n",
    "You can define and manipulate Settings in a completely flexible manner as will be explained in this section. To facilitate combining different packages in one script, QMworks defines a set of commonly used generic keywords, which can be combined with package specific keywords, to provide maximum flexibility."
   ]
  },
  {
   "cell_type": "code",
   "execution_count": 7,
   "metadata": {
    "collapsed": false
   },
   "outputs": [
    {
     "name": "stdout",
     "output_type": "stream",
     "text": [
      "basis: \tDZP\n",
      "freeze: \t[1, 2, 3]\n",
      "specific: \t\n",
      "         adf: \t\n",
      "             basis: \t\n",
      "                   core: \tlarge\n",
      "\n"
     ]
    }
   ],
   "source": [
    "from qmworks import Settings\n",
    "s = Settings()\n",
    "s.basis = \"DZP\"\n",
    "s.specific.adf.basis.core = \"large\"\n",
    "s.freeze = [1,2,3]\n",
    "print(s)"
   ]
  },
  {
   "cell_type": "markdown",
   "metadata": {},
   "source": [
    "This code snippet illustrates that the ``Settings`` can be specified in two ways, using generic or specific keywords. Generic keywords represent input properties that are present in most simulation packages like a *basis set* while *specific* keywords allow the user to apply specific keywords for a package that are not in a generic dictionary."
   ]
  },
  {
   "cell_type": "markdown",
   "metadata": {},
   "source": [
    "<font color='red'> Expert info: *Settings* are a subclass of python [dictionaries](https://docs.python.org/3.5/tutorial/datastructures.html#dictionaries) to represent herarchical structures, like\n",
    "<img src=\"files/simpleTree.png\"> </font>\n",
    "\n",
    "In QMworks/PLAMS multiple settings objects can be combined using the ``overlay`` function."
   ]
  },
  {
   "cell_type": "code",
   "execution_count": 8,
   "metadata": {
    "collapsed": false
   },
   "outputs": [
    {
     "name": "stdout",
     "output_type": "stream",
     "text": [
      "basis: \tDZP\n",
      "freeze: \t[1, 2, 3]\n",
      "specific: \t\n",
      "         adf: \t\n",
      "             basis: \t\n",
      "                   core: \tlarge\n",
      "                   type: \tSZ\n",
      "             geometry: \t\n",
      "                      optim: \tdelocal\n",
      "             integration: \t\n",
      "                         accint: \t6.0\n",
      "             scf: \t\n",
      "                 converge: \t1e-06\n",
      "                 iterations: \t100\n",
      "             xc: \t\n",
      "                __block_replace: \tTrue\n",
      "                lda: \t\n",
      "         cp2k: \t\n",
      "              force_eval: \t\n",
      "                         dft: \t\n",
      "                             basis_set_file_name: \t\n",
      "                             mgrid: \t\n",
      "                                   cutoff: \t400\n",
      "                                   ngrids: \t4\n",
      "                             potential_file_name: \t\n",
      "                             qs: \t\n",
      "                                method: \tgpw\n",
      "                             scf: \t\n",
      "                                 OT: \t\n",
      "                                    N_DIIS: \t7\n",
      "                                    minimizer: \tDIIS\n",
      "                                    preconditioner: \tfull_single_inverse\n",
      "                                 eps_scf: \t1e-06\n",
      "                                 max_scf: \t200\n",
      "                                 scf_guess: \tatomic\n",
      "                             xc: \t\n",
      "                                xc_functional: \tpbe\n",
      "                         subsys: \t\n",
      "                                cell: \t\n",
      "                                     periodic: \txyz\n",
      "              global: \t\n",
      "                     print_level: \tlow\n",
      "                     project: \tqmworks-cp2k\n",
      "                     run_type: \tgeometry_optimization\n",
      "              motion: \t\n",
      "                     geo_opt: \t\n",
      "                             max_iter: \t500\n",
      "                             optimizer: \tbfgs\n",
      "                             type: \tminimization\n",
      "         dftb: \t\n",
      "              dftb: \t\n",
      "                   resourcesdir: \tDFTB.org/3ob-3-1\n",
      "              task: \t\n",
      "                   runtype: \tGO\n",
      "         dirac: \t\n",
      "         gamess: \t\n",
      "                basis: \t\n",
      "                      gbasis: \tn21\n",
      "                      ngauss: \t3\n",
      "                contrl: \t\n",
      "                       dfttyp: \tpbe\n",
      "                       runtyp: \toptimize\n",
      "                       scftyp: \trhf\n",
      "         orca: \t\n",
      "              basis: \t\n",
      "                    basis: \tsto_sz\n",
      "              method: \t\n",
      "                     functional: \tlda\n",
      "                     method: \tdft\n",
      "                     runtyp: \topt\n",
      "\n"
     ]
    }
   ],
   "source": [
    "merged_settings = templates.geometry.overlay(s)\n",
    "print(merged_settings)"
   ]
  },
  {
   "cell_type": "markdown",
   "metadata": {},
   "source": [
    "The *overlay* method merged the template containing default settings for geometry optimizations with different packages with the arguments provided by the user \n",
    "<img src=\"files/merged.png\">\n",
    "\n",
    "resulting in:\n",
    "<img src=\"files/result_merged.png\" width=\"700\">"
   ]
  },
  {
   "cell_type": "markdown",
   "metadata": {},
   "source": [
    "Note that the generic and specific keywords still exist next to each other and may not be consistent (e.g. different basis sets are defined in generic and specific keywords). Upon calling a package with a Settings object, the generic keywords are first translated into package specific keywords and combined with the relevant user defined specific keywords. In this step, the settings defined in generic keywords take preference. Subsequently, the input file(s) for the given package is/are generated, based on the keywords after **specific.[package]** based on the [PLAMS software](https://www.scm.com/doc/plams/index.html).\n"
   ]
  },
  {
   "cell_type": "code",
   "execution_count": 9,
   "metadata": {
    "collapsed": false
   },
   "outputs": [
    {
     "name": "stdout",
     "output_type": "stream",
     "text": [
      "basis: \tDZP\n",
      "freeze: \t[1, 2, 3]\n",
      "specific: \t\n",
      "         adf: \t\n",
      "             basis: \t\n",
      "                   core: \tlarge\n",
      "                   type: \tDZP\n",
      "             constraints: \t\n",
      "                         atom 2: \t\n",
      "                         atom 3: \t\n",
      "                         atom 4: \t\n",
      "             geometry: \t\n",
      "                      optim: \tcartesian\n",
      "             integration: \t\n",
      "                         accint: \t6.0\n",
      "             scf: \t\n",
      "                 converge: \t1e-06\n",
      "                 iterations: \t100\n",
      "             xc: \t\n",
      "                __block_replace: \tTrue\n",
      "                lda: \t\n",
      "         cp2k: \t\n",
      "              force_eval: \t\n",
      "                         dft: \t\n",
      "                             basis_set_file_name: \t\n",
      "                             mgrid: \t\n",
      "                                   cutoff: \t400\n",
      "                                   ngrids: \t4\n",
      "                             potential_file_name: \t\n",
      "                             qs: \t\n",
      "                                method: \tgpw\n",
      "                             scf: \t\n",
      "                                 OT: \t\n",
      "                                    N_DIIS: \t7\n",
      "                                    minimizer: \tDIIS\n",
      "                                    preconditioner: \tfull_single_inverse\n",
      "                                 eps_scf: \t1e-06\n",
      "                                 max_scf: \t200\n",
      "                                 scf_guess: \tatomic\n",
      "                             xc: \t\n",
      "                                xc_functional: \tpbe\n",
      "                         subsys: \t\n",
      "                                cell: \t\n",
      "                                     periodic: \txyz\n",
      "              global: \t\n",
      "                     print_level: \tlow\n",
      "                     project: \tqmworks-cp2k\n",
      "                     run_type: \tgeometry_optimization\n",
      "              motion: \t\n",
      "                     geo_opt: \t\n",
      "                             max_iter: \t500\n",
      "                             optimizer: \tbfgs\n",
      "                             type: \tminimization\n",
      "         dftb: \t\n",
      "              dftb: \t\n",
      "                   resourcesdir: \tDFTB.org/3ob-3-1\n",
      "              task: \t\n",
      "                   runtype: \tGO\n",
      "         dirac: \t\n",
      "         gamess: \t\n",
      "                basis: \t\n",
      "                      gbasis: \tn21\n",
      "                      ngauss: \t3\n",
      "                contrl: \t\n",
      "                       dfttyp: \tpbe\n",
      "                       runtyp: \toptimize\n",
      "                       scftyp: \trhf\n",
      "         orca: \t\n",
      "              basis: \t\n",
      "                    basis: \tsto_sz\n",
      "              method: \t\n",
      "                     functional: \tlda\n",
      "                     method: \tdft\n",
      "                     runtyp: \topt\n",
      "\n"
     ]
    }
   ],
   "source": [
    "from qmworks import adf\n",
    "print(adf.generic2specific(merged_settings))"
   ]
  },
  {
   "cell_type": "markdown",
   "metadata": {},
   "source": [
    "In the case of adf the above keywords result in the following input file for ADF package:"
   ]
  },
  {
   "cell_type": "code",
   "execution_count": 10,
   "metadata": {
    "collapsed": false
   },
   "outputs": [
    {
     "name": "stdout",
     "output_type": "stream",
     "text": [
      "[22:13:12] PLAMS working folder: /home/lars/workspace/qmworks/jupyterNotebooks/tutorial_results/adf\n",
      "╭─(running jobs)\n",
      "│ Running adf adf_acetonitrile...\n",
      "\u001b[s\u001b[1A\u001b[50C(\u001b[38;2;60;180;100m✔\u001b[0m)\u001b[u╰─(success)\n",
      "atoms\n",
      "      1         C      2.419290      0.606560      0.000000 \n",
      "      2         C      1.671470      1.829570      0.000000 \n",
      "      3         N      1.065290      2.809960      0.000000 \n",
      "      4         H      2.000000      0.000000      1.000000 \n",
      "      5         H      2.000000      0.000000     -1.000000 \n",
      "      6         H      3.600000      0.800000      0.000000 \n",
      "end\n",
      "\n",
      "basis\n",
      "  core large\n",
      "  type DZP\n",
      "end\n",
      "\n",
      "constraints\n",
      "  atom 2\n",
      "  atom 3\n",
      "  atom 4\n",
      "end\n",
      "\n",
      "geometry\n",
      "  optim cartesian\n",
      "end\n",
      "\n",
      "integration\n",
      "  accint 6.0\n",
      "end\n",
      "\n",
      "scf\n",
      "  converge 1e-06\n",
      "  iterations 100\n",
      "end\n",
      "\n",
      "xc\n",
      "  lda\n",
      "end\n",
      "\n",
      "end input\n",
      "\n"
     ]
    }
   ],
   "source": [
    "result = run(adf(merged_settings, acetonitrile, job_name='adf_acetonitrile'), path=\"tutorial_results\", \n",
    "             folder=\"adf\", cache=\"tutorial_cache.json\")\n",
    "print(open('tutorial_results/adf/adf_acetonitrile/adf_acetonitrile.in').read())"
   ]
  },
  {
   "cell_type": "markdown",
   "metadata": {},
   "source": [
    "# <font color='green'> Combining multiple jobs </font>\n"
   ]
  },
  {
   "cell_type": "markdown",
   "metadata": {},
   "source": [
    "Multiple jobs can be combined, while calling the run function only once. The script below combines components outlined above:"
   ]
  },
  {
   "cell_type": "code",
   "execution_count": 12,
   "metadata": {
    "collapsed": false
   },
   "outputs": [
    {
     "name": "stdout",
     "output_type": "stream",
     "text": [
      "[22:17:01] WARNING: Folder /home/lars/workspace/qmworks/jupyterNotebooks/tutorial_results/workflow already exists. It is strongly advised to use a fresh folder for every run. If you experience problems check config.jobmanager.jobfolder_exists setting in plams_defaults.py\n",
      "[22:17:01] PLAMS working folder: /home/lars/workspace/qmworks/jupyterNotebooks/tutorial_results/workflow\n",
      "╭─(running jobs)\n",
      "│ Running dftb dftb_opt...\n",
      "\u001b[s\u001b[1A\u001b[50C(\u001b[38;2;60;180;100mretrieved\u001b[0m)\u001b[u│ Running adf adf_single...\n",
      "\u001b[s\u001b[1A\u001b[50C(\u001b[38;2;60;180;100mretrieved\u001b[0m)\u001b[u╰─(success)\n",
      "  Atoms: \n",
      "    1         C      0.000000      0.000000      0.656511 \n",
      "    2         C      0.000000      0.000000     -0.783088 \n",
      "    3         N      0.000000      0.000000     -1.946913 \n",
      "    4         H     -0.512221     -0.887193      1.022016 \n",
      "    5         H      1.024442      0.000000      1.022016 \n",
      "    6         H     -0.512221      0.887193      1.022016 \n",
      "\n",
      "-1.4094874734528942\n"
     ]
    }
   ],
   "source": [
    "from plams import Molecule\n",
    "from qmworks import dftb, adf, templates, run, Settings\n",
    "\n",
    "acetonitrile = Molecule(\"files/acetonitrile.xyz\")\n",
    "\n",
    "dftb_opt = dftb(templates.geometry, acetonitrile, job_name=\"dftb_opt\")\n",
    "\n",
    "s = Settings()\n",
    "s.basis = \"DZP\"\n",
    "s.specific.adf.basis.core = \"large\"\n",
    "adf_single = adf(templates.singlepoint.overlay(s), dftb_opt.molecule, job_name=\"adf_single\")\n",
    "\n",
    "adf_result = run(adf_single, path=\"tutorial_results\", folder=\"workflow\", cache=\"tutorial_cache.json\")\n",
    "print(adf_result.molecule)\n",
    "print(adf_result.energy)"
   ]
  },
  {
   "cell_type": "markdown",
   "metadata": {
    "collapsed": true
   },
   "source": [
    "In this case the second task adf_single reads the molecule optimized in the first job dftb_opt. Note that dftb_opt as well as dftb_opt.molecule are promised objects. When **run** is applied to the adf_single job, noodles builds a graph of dependencies and makes sure all the calculations required to obtain **adf_result** are performed.\n",
    "\n",
    "All data related to the calculations, i.e. input files generated by QMworks and the resulting output files generated by the QM packages are stored in folders named after the job_names, residing inside a results folder:"
   ]
  },
  {
   "cell_type": "code",
   "execution_count": 13,
   "metadata": {
    "collapsed": false
   },
   "outputs": [
    {
     "name": "stdout",
     "output_type": "stream",
     "text": [
      "\u001b[0m\u001b[01;34madf\u001b[0m/  \u001b[01;34mplams.16671\u001b[0m/  \u001b[01;34mworkflow\u001b[0m/\r\n"
     ]
    }
   ],
   "source": [
    "ls tutorial_results"
   ]
  },
  {
   "cell_type": "code",
   "execution_count": 14,
   "metadata": {
    "collapsed": false
   },
   "outputs": [
    {
     "name": "stdout",
     "output_type": "stream",
     "text": [
      "\u001b[0m\u001b[01;34madf_single\u001b[0m/  \u001b[01;34mdftb_opt\u001b[0m/  workflow.log\r\n"
     ]
    }
   ],
   "source": [
    "ls tutorial_results/workflow"
   ]
  },
  {
   "cell_type": "code",
   "execution_count": 15,
   "metadata": {
    "collapsed": false
   },
   "outputs": [
    {
     "name": "stdout",
     "output_type": "stream",
     "text": [
      "adf_single.dill  adf_single.in   \u001b[0m\u001b[01;32madf_single.run\u001b[0m*  logfile  t21.H\r\n",
      "adf_single.err   adf_single.out  adf_single.t21   t21.C    t21.N\r\n"
     ]
    }
   ],
   "source": [
    "ls tutorial_results/workflow/adf_single"
   ]
  },
  {
   "cell_type": "code",
   "execution_count": null,
   "metadata": {
    "collapsed": true
   },
   "outputs": [],
   "source": []
  }
 ],
 "metadata": {
  "anaconda-cloud": {},
  "kernelspec": {
   "display_name": "Python 3",
   "language": "python",
   "name": "python3"
  },
  "language_info": {
   "codemirror_mode": {
    "name": "ipython",
    "version": 3
   },
   "file_extension": ".py",
   "mimetype": "text/x-python",
   "name": "python",
   "nbconvert_exporter": "python",
   "pygments_lexer": "ipython3",
   "version": "3.5.2"
  }
 },
 "nbformat": 4,
 "nbformat_minor": 1
}
