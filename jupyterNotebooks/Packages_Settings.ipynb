{
 "cells": [
  {
   "cell_type": "markdown",
   "metadata": {},
   "source": [
    "# <font color='blue'> Starting the environment  </font>\n",
    "Once *QMWORKS*  has been installed the user should run the following command to initialize the environment:"
   ]
  },
  {
   "cell_type": "raw",
   "metadata": {},
   "source": [
    "[user@int1 ~]$ source activate qmworks\n",
    "discarding /home/user/anaconda3/bin from PATH\n",
    "prepending /home/user/anaconda3/envs/qmworks/bin to PATH\n",
    "(qmworks)[user@int1 ~]$ python --version\n",
    "Python 3.5.2 :: Anaconda custom (64-bit)"
   ]
  },
  {
   "cell_type": "markdown",
   "metadata": {},
   "source": [
    "To leave the environment the following command is used"
   ]
  },
  {
   "cell_type": "raw",
   "metadata": {},
   "source": [
    "(qmworks)[user@int1 ~]$ source deactivate\n",
    "discarding /home/user/anaconda3/envs/qmworks/bin from PATH"
   ]
  },
  {
   "cell_type": "markdown",
   "metadata": {},
   "source": [
    "# <font color='blue'> Packages and Settings </font> \n",
    "Currently **QMWORKS** offers an interface with the following simulation software:\n",
    "* #### SCM (ADF and DTFB)\n",
    "* #### CP2K\n",
    "* #### ORCA\n",
    "* #### GAMESS-US\n",
    "* #### DIRAC\n",
    "\n",
    "The inteaction between aforementioned packages and ``qmworks`` is carry out through a set of python function: \n",
    "*adf, dftb, cp2k, orca, gamess and dirac*.\n",
    "These functions takes as arguments some ``settings`` describing the input and a molecular geometry as detailed below,"
   ]
  },
  {
   "cell_type": "code",
   "execution_count": 1,
   "metadata": {
    "collapsed": true
   },
   "outputs": [],
   "source": [
    "from qmworks import Settings\n",
    "s = Settings()\n",
    "s.basis = \"DZP\"\n",
    "s.specific.adf.basis.core = \"large\""
   ]
  },
  {
   "cell_type": "markdown",
   "metadata": {},
   "source": [
    "As shown in the previous code snippet, the ``Settings`` ca be specified in two way: generic or specific. Generic keywords represent input properties that are present in most simulation packages like a *basis set* while *specific* keywords resemble the input structure of a given package.  "
   ]
  },
  {
   "cell_type": "code",
   "execution_count": 2,
   "metadata": {
    "collapsed": true
   },
   "outputs": [],
   "source": [
    "from qmworks import templates\n",
    "inp = templates.geometry.overlay(s)"
   ]
  },
  {
   "cell_type": "markdown",
   "metadata": {},
   "source": [
    "The *overlay* method takes as input a template containing a default set for different packages and also takes the arguments provided by the user, as shown schematically \n",
    "<img src=\"files/merged.png\">\n",
    "\n",
    "This overlay method merged the defaults for a given packages (*ADF* in this case) with the input supplied by the user, always given preference to the user input\n",
    "<img src=\"files/result_merged.png\" width=\"700\">"
   ]
  },
  {
   "cell_type": "markdown",
   "metadata": {},
   "source": [
    "**Templates** are stored inside the ``qmworks`` package as JSON files. Below it is shown the defaults for single point calculations"
   ]
  },
  {
   "cell_type": "code",
   "execution_count": 3,
   "metadata": {
    "collapsed": false
   },
   "outputs": [
    {
     "data": {
      "text/plain": [
       "{'specific': {'adf': {'basis': {'type': 'SZ'},\n",
       "   'integration': {'accint': 4.0},\n",
       "   'scf': {'converge': 1e-06, 'iterations': 100},\n",
       "   'xc': {'lda': ''}},\n",
       "  'cp2k': {'force_eval': {'dft': {'basis_set_file_name': '',\n",
       "     'mgrid': {'cutoff': 400, 'ngrids': 4},\n",
       "     'potential_file_name': '',\n",
       "     'scf': {'added_mos': '',\n",
       "      'eps_scf': 1e-06,\n",
       "      'max_scf': 200,\n",
       "      'scf_guess': 'restart'},\n",
       "     'xc': {'xc_functional': 'pbe'}},\n",
       "    'subsys': {'cell': {'periodic': 'xyz'},\n",
       "     'topology': {'coord_file_name': '', 'coordinate': 'xyz'}}}},\n",
       "  'dftb': {'dftb': {'resourcesdir': 'QUASINANO2015'},\n",
       "   'task': {'runtype': 'SP'}},\n",
       "  'dirac': {'DIRAC': 'WAVEFUNCTION',\n",
       "   'HAMILTONIAN': 'LEVY-LEBLOND',\n",
       "   'WAVE FUNCTION': 'SCF'},\n",
       "  'gamess': {'basis': {'gbasis': 'sto', 'ngauss': 3},\n",
       "   'contrl': {'dfttyp': 'pbe', 'scftyp': 'rhf'}},\n",
       "  'orca': {'basis': {'basis': 'sto_sz'},\n",
       "   'method': {'functional': 'lda', 'method': 'dft'}}}}"
      ]
     },
     "execution_count": 3,
     "metadata": {},
     "output_type": "execute_result"
    }
   ],
   "source": [
    "{\n",
    "    \"specific\": {\n",
    "        \"adf\": {\n",
    "            \"basis\": {\"type\": \"SZ\"},\n",
    "            \"xc\": {\"lda\": \"\"},\n",
    "            \"integration\": {\"accint\": 4.0},\n",
    "            \"scf\": {\n",
    "            \"converge\": 1e-6,\n",
    "            \"iterations\": 100} },\n",
    "        \"dftb\": {\n",
    "            \"task\": {\"runtype\": \"SP\"},\n",
    "            \"dftb\": {\"resourcesdir\": \"QUASINANO2015\"} },\n",
    "        \"cp2k\" : {\n",
    "          \"force_eval\": {\n",
    "              \"dft\": {\n",
    "                  \"basis_set_file_name\": \"\",\n",
    "                  \"mgrid\": {\n",
    "                      \"cutoff\": 400,\n",
    "                      \"ngrids\": 4\n",
    "                  },\n",
    "                  \"potential_file_name\": \"\",\n",
    "                  \"scf\": {\n",
    "                      \"added_mos\": \"\",\n",
    "                      \"eps_scf\": 1e-06,\n",
    "                      \"max_scf\": 200,\n",
    "                      \"scf_guess\": \"restart\"\n",
    "                  },\n",
    "                  \"xc\": {\n",
    "                      \"xc_functional\": \"pbe\"\n",
    "                  }\n",
    "              },\n",
    "              \"subsys\": {\n",
    "                  \"cell\": {\n",
    "                      \"periodic\": \"xyz\"\n",
    "                  },\n",
    "                  \"topology\": {\n",
    "                      \"coordinate\": \"xyz\",\n",
    "                      \"coord_file_name\": \"\"}\n",
    "                  }\n",
    "              }\n",
    "        },\n",
    "        \"dirac\": {\n",
    "            \"DIRAC\": \"WAVEFUNCTION\",\n",
    "            \"HAMILTONIAN\": \"LEVY-LEBLOND\",\n",
    "            \"WAVE FUNCTION\": \"SCF\"\n",
    "        },\n",
    "        \"gamess\": {\n",
    "            \"basis\": {\"gbasis\": \"sto\", \"ngauss\": 3},\n",
    "            \"contrl\": {\"scftyp\": \"rhf\", \"dfttyp\": \"pbe\"}\n",
    "        },\n",
    "        \"orca\": {\n",
    "            \"method\": {\n",
    "                \"method\": \"dft\",\n",
    "                \"functional\": \"lda\"},\n",
    "            \"basis\": {\n",
    "                \"basis\": \"sto_sz\"}\n",
    "        }\n",
    "    }\n",
    "}"
   ]
  },
  {
   "cell_type": "code",
   "execution_count": 4,
   "metadata": {
    "collapsed": false
   },
   "outputs": [
    {
     "name": "stdout",
     "output_type": "stream",
     "text": [
      "  Atoms: \n",
      "    1         C      2.419290      0.606560      0.000000 \n",
      "    2         C      1.671470      1.829570      0.000000 \n",
      "    3         N      1.065290      2.809960      0.000000 \n",
      "    4         H      2.000000      0.000000      1.000000 \n",
      "    5         H      2.000000      0.000000     -1.000000 \n",
      "    6         H      3.600000      0.800000      0.000000 \n",
      "\n"
     ]
    }
   ],
   "source": [
    "from plams import Molecule\n",
    "acetonitrile = Molecule(\"files/acetonitrile.xyz\")\n",
    "print(acetonitrile)"
   ]
  },
  {
   "cell_type": "code",
   "execution_count": 5,
   "metadata": {
    "collapsed": true
   },
   "outputs": [],
   "source": [
    "from qmworks import adf\n",
    "job = adf(inp, acetonitrile)"
   ]
  },
  {
   "cell_type": "markdown",
   "metadata": {},
   "source": [
    "### Extracting Properties\n",
    "We can easily extract the *optimized geometry* from the *ADF* calculation using the following notation"
   ]
  },
  {
   "cell_type": "code",
   "execution_count": 6,
   "metadata": {
    "collapsed": true
   },
   "outputs": [],
   "source": [
    "optmized_mol_adf = job.molecule"
   ]
  },
  {
   "cell_type": "markdown",
   "metadata": {},
   "source": [
    "We can use this geometry for further calculations using for instance another package"
   ]
  },
  {
   "cell_type": "code",
   "execution_count": 7,
   "metadata": {
    "collapsed": true
   },
   "outputs": [],
   "source": [
    "from qmworks import orca\n",
    "s2 = Settings()\n",
    "s2.specific.orca.main = \"freq\"\n",
    "s2.specific.orca.basis.basis = 'sto_sz'\n",
    "s2.specific.orca.method.functional = 'lda'\n",
    "s2.specific.orca.method.method = 'dft'\n",
    "\n",
    "job_freq = orca(s2, optmized_mol_adf)\n",
    "\n",
    "frequencies = job_freq.frequencies"
   ]
  },
  {
   "cell_type": "markdown",
   "metadata": {},
   "source": [
    "# <font color='blue'> Running the script </font>\n"
   ]
  },
  {
   "cell_type": "markdown",
   "metadata": {},
   "source": [
    "## A little discussion about graphs\n",
    "*qmworks* is meant to be used for both workflow generation and execution,\n",
    "\n",
    "<img src=\"files/simple_graph.png\">"
   ]
  },
  {
   "cell_type": "code",
   "execution_count": 8,
   "metadata": {
    "collapsed": true
   },
   "outputs": [],
   "source": [
    "from qmworks import run"
   ]
  },
  {
   "cell_type": "markdown",
   "metadata": {
    "collapsed": true
   },
   "source": [
    "\n",
    "### <font color='green'> result = run(frequencies) </font>"
   ]
  },
  {
   "cell_type": "markdown",
   "metadata": {},
   "source": [
    "Once you run the script, as you we will see in the next section, an input file for the *ADF* job is created"
   ]
  },
  {
   "cell_type": "raw",
   "metadata": {},
   "source": [
    "Atoms\n",
    "      1         C      2.419290      0.606560      0.000000 \n",
    "      2         C      1.671470      1.829570      0.000000 \n",
    "      3         N      1.065290      2.809960      0.000000 \n",
    "      4         H      2.000000      0.000000      1.000000 \n",
    "      5         H      2.000000      0.000000     -1.000000 \n",
    "      6         H      3.600000      0.800000      0.000000 \n",
    "End\n",
    "\n",
    "Basis\n",
    "  Type DZP\n",
    "End\n",
    "\n",
    "Constraints\n",
    "  Atom 1\n",
    "  Atom 2\n",
    "  Atom 3\n",
    "End\n",
    "\n",
    "Geometry\n",
    "  Optim cartesian\n",
    "End\n",
    "\n",
    "Integration\n",
    "  Accint 6.0\n",
    "End\n",
    "\n",
    "Scf\n",
    "  Converge 1e-06\n",
    "  Iterations 100\n",
    "End"
   ]
  },
  {
   "cell_type": "markdown",
   "metadata": {},
   "source": [
    "Running in **Cartesius** or **Bazis** through the *Slurm* resource manager can be done using and script like"
   ]
  },
  {
   "cell_type": "raw",
   "metadata": {},
   "source": [
    "#!/bin/bash\n",
    "#SBATCH -t 00:10:00\n",
    "#SBATCH -N 1\n",
    "#SBATCH -n 8\n",
    "\n",
    "module load orca\n",
    "module load adf/2016.102\n",
    "\n",
    "source activate qmworks\n",
    "python optimization_ADF_freq_ORCA.py"
   ]
  },
  {
   "cell_type": "markdown",
   "metadata": {},
   "source": [
    "The Slurm output looks like:"
   ]
  },
  {
   "cell_type": "raw",
   "metadata": {},
   "source": [
    "load orca/3.0.3 (PATH)\n",
    "discarding /home/fza900/anaconda3/envs/qmworks/bin from PATH\n",
    "prepending /home/fza900/anaconda3/envs/qmworks/bin to PATH\n",
    "[11:17:59] PLAMS working folder: /nfs/home6/fza900/orca/Opt/example/plams.23412\n",
    "+-(running jobs)\n",
    "| Running adf ...\n",
    "[11:17:59] Job ADFjob started\n",
    "[11:18:18] Job ADFjob finished with status 'successful' \n",
    "[11:18:18] Job ORCAjob started\n",
    "[11:18:26] Job ORCAjob finished with status 'successful' \n",
    "\n",
    "[    0.           0.           0.           0.           0.           0.\n",
    "  -360.547382  -360.14986    953.943089   954.3062    1049.2305\n",
    "  1385.756519  1399.961717  1399.979552  2602.599662  3080.45671\n",
    "  3175.710785  3177.612274]"
   ]
  }
 ],
 "metadata": {
  "anaconda-cloud": {},
  "kernelspec": {
   "display_name": "Python [default]",
   "language": "python",
   "name": "python3"
  },
  "language_info": {
   "codemirror_mode": {
    "name": "ipython",
    "version": 3
   },
   "file_extension": ".py",
   "mimetype": "text/x-python",
   "name": "python",
   "nbconvert_exporter": "python",
   "pygments_lexer": "ipython3",
   "version": "3.5.2"
  }
 },
 "nbformat": 4,
 "nbformat_minor": 1
}
