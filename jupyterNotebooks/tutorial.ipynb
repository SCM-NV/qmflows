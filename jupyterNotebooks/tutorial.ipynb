{
 "cells": [
  {
   "cell_type": "markdown",
   "metadata": {},
   "source": [
    "## <font color='green'> Table of content </font>\n",
    "\n",
    "1. **Installation**\n",
    "2. **Packages**\n",
    "3. **Settings**\n",
    "4. **Templates**\n",
    "5. **Molecules**\n",
    "6.  ** Runinng a quantum mechanics simulation**\n",
    "7.  **How the run function works?**\n",
    "8. ** Advanced examples**\n",
    "9. **Exception handling**\n",
    "\n"
   ]
  },
  {
   "cell_type": "markdown",
   "metadata": {},
   "source": [
    "## <font color='green'> 1. Installation in Unix </font> \n",
    "\n",
    "  - conda installation. Type in your console the following command:   \n",
    "   ```bash\n",
    "   wget https://repo.continuum.io/miniconda/Miniconda3-latest-Linux-x86_64.sh -O miniconda.sh\n",
    "   ```\n",
    "   \n",
    "  - then add miniconda to your path   \n",
    "   ```bash\n",
    "   bash miniconda.sh -b -p $HOME/miniconda\n",
    "   ```\n",
    "   \n",
    "  \n",
    "  - create new virtual environment\n",
    "   ```bash\n",
    "   conda create -q -n qmflows\n",
    "   ```\n",
    "    \n",
    "  - Install dependecies\n",
    "   ```bash \n",
    "   conda install --name qmflows -c anaconda hdf5\n",
    "   conda install --name qmflows -c https://conda.anaconda.org/rdkit rdkit\n",
    "   ```\n",
    "    \n",
    "  - Start environment\n",
    "   ```bash\n",
    "   source activate qmflows\n",
    "   ``` \n",
    "   \n",
    "  - install **qmflows** \n",
    "    ```bash\n",
    "     pip install qmflows --upgrade\n",
    "    ```\n",
    "** You are ready to start! **\n",
    "\n",
    "## <font color='green'> Starting the environment  </font>\n",
    "Once *QMFLOWS*  has been installed the user should run the following command to initialize the environment:"
   ]
  },
  {
   "cell_type": "markdown",
   "metadata": {},
   "source": [
    "```bash\n",
    "[user@int1 ~]$ source activate qmflows\n",
    "discarding /home/user/anaconda3/bin from PATH\n",
    "prepending /home/user/anaconda3/envs/qmflows/bin to PATH\n",
    "(qmflows)[user@int1 ~]$ python --version\n",
    "Python 3.5.2 :: Anaconda custom (64-bit)\n",
    "```"
   ]
  },
  {
   "cell_type": "markdown",
   "metadata": {},
   "source": [
    "To leave the environment the following command is used"
   ]
  },
  {
   "cell_type": "markdown",
   "metadata": {},
   "source": [
    "```bash\n",
    "(qmflows)[user@int1 ~]$ source deactivate\n",
    "discarding /home/user/anaconda3/envs/qmflows/bin from PATH\n",
    "```"
   ]
  },
  {
   "cell_type": "markdown",
   "metadata": {},
   "source": [
    "## <font color='green'> 2. What is QMflows? </font>\n",
    "QMflows is a python library that enables executing complex workflows of interdependent quantum chemical (QM) calculations in python. It aims at providing a common interface to multiple QM packages, enabling easy and systematic generation of the calculation inputs, as well as facilitating automatic analysis of the results. Furthermore it is build on top of the powerful [Noodles](http://nlesc.github.io/noodles/) framework for executing the calculations in parallel where possible. Together with the [Plams](https://github.com/SCM-NV/PLAMS) library to interface with the different QM simulation packages."
   ]
  },
  {
   "cell_type": "markdown",
   "metadata": {},
   "source": [
    "## <font color='green'> Packages </font> \n",
    "Currently `QMflows` offers an interface with the following simulation softwares:\n",
    "* [SCM](https://www.scm.com/) (ADF and DTFB)\n",
    "* [CP2K](https://www.cp2k.org/)\n",
    "* [ORCA](https://orcaforum.cec.mpg.de/)\n",
    "* [GAMESS-US](http://www.msg.ameslab.gov/gamess/)\n",
    "* [DIRAC](http://diracprogram.org/doku.php)\n",
    "\n",
    "If you are interested in having support for other packages, request it using the [github-issues](https://github.com/SCM-NV/qmflows/issues) system (Sorry but Gaussian is out of the menu!).\n",
    "\n",
    "\n",
    "With ``qmflows`` you can write a python script that simply calls one of the package objects \n",
    "**adf, dftb, cp2k, orca, gamess** or **dirac**. As arguments to the call, you need to provide a ``Settings`` objects defining the input of a calculation, a molecular geometry represented by an object called ``Molecule``, and, optionally, a job name that enables you to find back the \"raw\" data of the calculation later on.\n",
    "\n",
    "### <font color='orange'> Technical note: </font> \n",
    "`It is the user responsability to install or load the simulation packages that he/she wants to use. In most supercomputers these simulation packages are available using a command like (consult your system administrator):`\n",
    "```bash\n",
    "load module superAwesomeQuantumPackage/3.141592\n",
    "```\n",
    "`Also some simulation packages required that you configure a ``scratch`` folder. For instance *Orca* requires a ``SCR`` folder to be defined while *ADF*  called it ``SCM_TMPDIR``.`\n",
    "\n"
   ]
  },
  {
   "cell_type": "markdown",
   "metadata": {},
   "source": [
    "## <font color='green'> 3. QMflows Settings </font> \n",
    "*Settings* are a subclass of python [dictionaries](https://docs.python.org/3.5/tutorial/datastructures.html#dictionaries) to represent hierarchical structures, like "
   ]
  },
  {
   "cell_type": "markdown",
   "metadata": {},
   "source": [
    "<img src=\"files/simpleTree.png\">"
   ]
  },
  {
   "cell_type": "code",
   "execution_count": 1,
   "metadata": {
    "collapsed": true
   },
   "outputs": [],
   "source": [
    "from qmflows import Settings\n",
    "\n",
    "s = Settings()\n",
    "s.b.z\n",
    "s.c.f\n",
    "s.c.g = 0"
   ]
  },
  {
   "cell_type": "markdown",
   "metadata": {},
   "source": [
    "These hierachical resemble the input structure used in most quantum simulation package. For instance the basis set section in ADF is given by something like:\n",
    "```\n",
    "Basis\n",
    "  Type DZP\n",
    "  Core Large\n",
    "End\n",
    "```\n",
    "We can resemble this structure using **Settings**,"
   ]
  },
  {
   "cell_type": "code",
   "execution_count": null,
   "metadata": {
    "collapsed": true
   },
   "outputs": [],
   "source": [
    "s = Settings()\n",
    "s.specific.adf.basis.basis = \"DZP\"\n",
    "s.specific.adf.basis.core = \"Large\""
   ]
  },
  {
   "cell_type": "markdown",
   "metadata": {},
   "source": [
    "We are creating the *adf*  hierarchy under a key called *specific*, this key is used to differentiate keywords that are unique to a certain quantum package from those that can be used in several packages as we will see in the next section.\n",
    "\n",
    "similarly, we can define ``Settings`` for all the sections\n",
    "```\n",
    "Basis\n",
    "  Type DZP\n",
    "End\n",
    "\n",
    "Constraints\n",
    "  Dist 1 2 1.0\n",
    "End\n",
    "\n",
    "Geometry\n",
    "  Optim delocal\n",
    "End\n",
    "\n",
    "Integration\n",
    "  Accint 6.0\n",
    "End\n",
    "\n",
    "Scf\n",
    "  Converge 1e-06\n",
    "  Iterations 100\n",
    "End\n",
    "\n",
    "Xc\n",
    "  Lda\n",
    "End\n",
    "```\n",
    "Represented by the following code"
   ]
  },
  {
   "cell_type": "code",
   "execution_count": 2,
   "metadata": {},
   "outputs": [
    {
     "name": "stdout",
     "output_type": "stream",
     "text": [
      "specific: \t\n",
      "         adf: \t\n",
      "             basis: \t\n",
      "                   basis: \tDZP\n",
      "                   core: \tLarge\n",
      "             constraints: \t\n",
      "                         dist: \t1 2 1.0\n",
      "             geometry: \t\n",
      "                      optim: \tdelocal\n",
      "             integration: \t\n",
      "                         accint: \t6.0\n",
      "             scf: \t\n",
      "                 converge: \t1e-06\n",
      "                 iterations: \t100\n",
      "             xc: \t\n",
      "                lda: \t\n",
      "\n"
     ]
    }
   ],
   "source": [
    "s = Settings()\n",
    "\n",
    "# Basis\n",
    "s.specific.adf.basis.basis = \"DZP\"\n",
    "s.specific.adf.basis.core = \"Large\"\n",
    "\n",
    "# Constrains\n",
    "s.specific.adf.constraints.dist  = \"1 2 1.0\"\n",
    "\n",
    "#Geometry\n",
    "s.specific.adf.geometry.optim = 'delocal'\n",
    "\n",
    "#Integration\n",
    "s.specific.adf.integration.accint = 6.0\n",
    "\n",
    "# SCF\n",
    "s.specific.adf.scf.converge = 1e-6\n",
    "s.specific.adf.scf.iterations = 100\n",
    "\n",
    "# Functional\n",
    "s.specific.adf.xc.lda\n",
    "\n",
    "print(s)"
   ]
  },
  {
   "cell_type": "markdown",
   "metadata": {},
   "source": [
    "You don't need to explicitly declare the `end` keyword, *qmflows* knows how to hande them."
   ]
  },
  {
   "cell_type": "markdown",
   "metadata": {},
   "source": [
    "### <font color='green'> Generic Keywords </font> \n",
    "Quantum chemistry packages use gaussian type orbitals (GTO) or  slater type orbitals (STO) to perform the simulation. The packages use the same standards for the basis set and it will be really handy if we can defined a \"generic\" keyword for basis sets.\n",
    "Fortunately ``qmflows`` already offers such keyword that can be used among the packages that use the same basis standard,"
   ]
  },
  {
   "cell_type": "code",
   "execution_count": null,
   "metadata": {
    "collapsed": true
   },
   "outputs": [],
   "source": [
    "s = Settings()\n",
    "s.basis = \"DZP\""
   ]
  },
  {
   "cell_type": "markdown",
   "metadata": {},
   "source": [
    "Internally **QMflows** will create a hierarchical structure representing basis *DZP* for the packages that can handle that basis set.\n",
    "Other generic keyowrds like: ``functional``, ``inithess``, etc. have been implemented. "
   ]
  },
  {
   "cell_type": "markdown",
   "metadata": {},
   "source": [
    "The Following table describes some of the available generic keywords and the Packages where the funcionality is implemented\n",
    "\n",
    "| Generic  Keyword        | Packages   | Description  |\n",
    "| :-------------: |:-------------:| :-----:|\n",
    "|basis | ADF, CP2K, Orca | Set the Basis set |\n",
    "|cell_angles| CP2K| Specified the angles of the unit cell|\n",
    "| cell_parameters| CP2K|  Specified the vectors of the unit cell|\n",
    "| constraint | ADF, Orca| Constrain the distance, angle or dihedral angle for a set of molecules\n",
    "|freeze| ADF, Gamess, Orca | Freeze a set of atoms indicated by their indexes or symbols|\n",
    "|functional| ADF, CP2K| Set the DFT functional |\n",
    "| inithess | ADF, Orca| Provide an initial Hessian matrix|\n",
    "| optimize| ADF, DFTB, Orca | Perform a molecular optimization|\n",
    "|selected_atoms| ADF, Gamess, Orca | Optimize the given set of atoms while keeping the rest fixed|\n",
    "| ts| ADF, DFTB, Orca | Carry out a transition state optimization|\n",
    "\n",
    "Note: **QMflows** Does not have chemical intuition and if you provide a meaningless keyword,\n",
    "like a wrong basis set it will not warm you.\n",
    "\n"
   ]
  },
  {
   "cell_type": "markdown",
   "metadata": {},
   "source": [
    "## <font color='green'>  4. Templates </font> \n",
    "\n",
    "As has been shown so far,  **Settings** can be specified in two ways: generic or specific. Generic keywords represent input properties that are present in most simulation packages like a *basis set* while *specific* keywords resemble the input structure of a given package.\n",
    " \n",
    "*Generic* and *Specific* **Settings**  can express both simple and complex simulation inputs,  but it would be nice if we can pre-defined a set of templates for the most common quantum chemistry simulations like: single point calculations, geometry optimizations, transition state optimization, frequency calculations, etc.\n",
    "*qmflows* already has a pre-defined set of templates  containing some defaults that the user can modify for her/his own purpose. ``Templates`` are stored inside the ``qmflows.templates`` module and are load from *JSON* files. A JSON file is basically a nested dictionary that is translated to a ``Settings`` object by *qmflows*.\n",
    "\n",
    "Below it is shown the defaults for single point calculation"
   ]
  },
  {
   "cell_type": "code",
   "execution_count": 3,
   "metadata": {},
   "outputs": [
    {
     "data": {
      "text/plain": [
       "_ipython_canary_method_should_not_exist_: \t\n",
       "specific: \t\n",
       "         adf: \t\n",
       "             basis: \t\n",
       "                   type: \tSZ\n",
       "             integration: \t\n",
       "                         accint: \t4.0\n",
       "             scf: \t\n",
       "                 converge: \t1e-06\n",
       "                 iterations: \t100\n",
       "             xc: \t\n",
       "                __block_replace: \tTrue\n",
       "                lda: \t\n",
       "         cp2k: \t\n",
       "              force_eval: \t\n",
       "                         dft: \t\n",
       "                             basis_set_file_name: \t\n",
       "                             mgrid: \t\n",
       "                                   cutoff: \t400\n",
       "                                   ngrids: \t4\n",
       "                             potential_file_name: \t\n",
       "                             print: \t\n",
       "                                   mo: \t\n",
       "                                      add_last: \tnumeric\n",
       "                                      each: \t\n",
       "                                           qs_scf: \t0\n",
       "                                      eigenvalues: \t\n",
       "                                      eigenvectors: \t\n",
       "                                      filename: \t./mo.data\n",
       "                                      ndigits: \t36\n",
       "                                      occupation_numbers: \t\n",
       "                             qs: \t\n",
       "                                method: \tgpw\n",
       "                             scf: \t\n",
       "                                 added_mos: \t\n",
       "                                 eps_scf: \t1e-06\n",
       "                                 max_scf: \t200\n",
       "                                 scf_guess: \trestart\n",
       "                             xc: \t\n",
       "                                xc_functional: \tpbe\n",
       "                         subsys: \t\n",
       "                                cell: \t\n",
       "                                     periodic: \txyz\n",
       "              global: \t\n",
       "                     print_level: \tlow\n",
       "                     project: \tqmflows-cp2k\n",
       "                     run_type: \tenergy_force\n",
       "         dftb: \t\n",
       "              dftb: \t\n",
       "                   resourcesdir: \tDFTB.org/3ob-3-1\n",
       "              task: \t\n",
       "                   runtype: \tSP\n",
       "         dirac: \t\n",
       "               DIRAC: \tWAVEFUNCTION\n",
       "               HAMILTONIAN: \tLEVY-LEBLOND\n",
       "               WAVE FUNCTION: \tSCF\n",
       "         gamess: \t\n",
       "                basis: \t\n",
       "                      gbasis: \tsto\n",
       "                      ngauss: \t3\n",
       "                contrl: \t\n",
       "                       dfttyp: \tpbe\n",
       "                       scftyp: \trhf\n",
       "         orca: \t\n",
       "              basis: \t\n",
       "                    basis: \tsto_sz\n",
       "              method: \t\n",
       "                     functional: \tlda\n",
       "                     method: \tdft\n"
      ]
     },
     "execution_count": 3,
     "metadata": {},
     "output_type": "execute_result"
    }
   ],
   "source": [
    "from qmflows import templates\n",
    "templates.singlepoint"
   ]
  },
  {
   "cell_type": "markdown",
   "metadata": {},
   "source": [
    "The question is then, *how I can modify a template with my own changes?*\n",
    "\n",
    "Suppose you are perfoming a bunch of  constrained *DFT* optimizations using ` ADF ` . You need first to define a basis set  and the constrains."
   ]
  },
  {
   "cell_type": "code",
   "execution_count": null,
   "metadata": {
    "collapsed": true
   },
   "outputs": [],
   "source": [
    "s = Settings()\n",
    "# Basis\n",
    "s.basis = \"DZP\"\n",
    "s.specific.adf.basis.core = \"Large\"\n",
    "\n",
    "# Constrain\n",
    "s.freeze = [1, 2, 3]"
   ]
  },
  {
   "cell_type": "markdown",
   "metadata": {},
   "source": [
    "We use two *generic*  keywords: `freeze` to indicate a constrain and `basis` to provide the basis set. Also, we introduce an specific `ADF` keywords `core = Large`.\n",
    "Now you merge your **Settings** with the correspoding template to carry out molecular geometry optimizations, using a method called `overlay`."
   ]
  },
  {
   "cell_type": "code",
   "execution_count": null,
   "metadata": {
    "collapsed": true
   },
   "outputs": [],
   "source": [
    "from qmflows import templates\n",
    "inp = templates.geometry.overlay(s)"
   ]
  },
  {
   "cell_type": "markdown",
   "metadata": {},
   "source": [
    "The ``overlay`` method takes as input a template containing a default set for different packages and also takes the arguments provided by the user, as shown schematically \n",
    "<img src=\"files/merged.png\">\n",
    "\n",
    "This `overlay` method merged the defaults for a given packages (*ADF* in this case) with the input supplied by the user, always given preference to the user input\n",
    "<img src=\"files/result_merged.png\" width=\"700\">"
   ]
  },
  {
   "cell_type": "markdown",
   "metadata": {},
   "source": [
    "Below it is shown a combination of templates, generic  and specific keywords to generate the input for a ``CP2K`` job"
   ]
  },
  {
   "cell_type": "code",
   "execution_count": 7,
   "metadata": {},
   "outputs": [
    {
     "name": "stdout",
     "output_type": "stream",
     "text": [
      "_ipython_canary_method_should_not_exist_: \t\n",
      "basis: \tDZVP-MOLOPT-SR-GTH\n",
      "cell_angles: \t[90.0, 90.0, 90.0]\n",
      "cell_parameters: \t38.0\n",
      "potential: \tGTH-PBE\n",
      "specific: \t\n",
      "         adf: \t\n",
      "             basis: \t\n",
      "                   type: \tSZ\n",
      "             integration: \t\n",
      "                         accint: \t4.0\n",
      "             scf: \t\n",
      "                 converge: \t1e-06\n",
      "                 iterations: \t100\n",
      "             xc: \t\n",
      "                __block_replace: \tTrue\n",
      "                lda: \t\n",
      "         cp2k: \t\n",
      "              force_eval: \t\n",
      "                         dft: \t\n",
      "                             basis_set_file_name: \t\n",
      "                             mgrid: \t\n",
      "                                   cutoff: \t400\n",
      "                                   ngrids: \t4\n",
      "                             potential_file_name: \t\n",
      "                             print: \t\n",
      "                                   mo: \t\n",
      "                                      add_last: \tnumeric\n",
      "                                      each: \t\n",
      "                                           qs_scf: \t0\n",
      "                                      eigenvalues: \t\n",
      "                                      eigenvectors: \t\n",
      "                                      filename: \t./mo.data\n",
      "                                      ndigits: \t36\n",
      "                                      occupation_numbers: \t\n",
      "                             qs: \t\n",
      "                                method: \tgpw\n",
      "                             scf: \t\n",
      "                                 added_mos: \t\n",
      "                                 eps_scf: \t1e-06\n",
      "                                 max_scf: \t100\n",
      "                                 scf_guess: \trestart\n",
      "                             xc: \t\n",
      "                                xc_functional: \tpbe\n",
      "                         subsys: \t\n",
      "                                cell: \t\n",
      "                                     periodic: \tNone\n",
      "              global: \t\n",
      "                     print_level: \tlow\n",
      "                     project: \tqmflows-cp2k\n",
      "                     run_type: \tenergy_force\n",
      "         dftb: \t\n",
      "              dftb: \t\n",
      "                   resourcesdir: \tDFTB.org/3ob-3-1\n",
      "              task: \t\n",
      "                   runtype: \tSP\n",
      "         dirac: \t\n",
      "               DIRAC: \tWAVEFUNCTION\n",
      "               HAMILTONIAN: \tLEVY-LEBLOND\n",
      "               WAVE FUNCTION: \tSCF\n",
      "         gamess: \t\n",
      "                basis: \t\n",
      "                      gbasis: \tsto\n",
      "                      ngauss: \t3\n",
      "                contrl: \t\n",
      "                       dfttyp: \tpbe\n",
      "                       scftyp: \trhf\n",
      "         orca: \t\n",
      "              basis: \t\n",
      "                    basis: \tsto_sz\n",
      "              method: \t\n",
      "                     functional: \tlda\n",
      "                     method: \tdft\n",
      "\n"
     ]
    }
   ],
   "source": [
    "from qmflows import templates\n",
    "\n",
    "# Template\n",
    "s = templates.singlepoint\n",
    "\n",
    "# Generic keywords\n",
    "s.cell_angles = [90.0, 90.0, 90.0]\n",
    "s.cell_parameters=  38.0  \n",
    "s.basis = 'DZVP-MOLOPT-SR-GTH'\n",
    "s.potential ='GTH-PBE'\n",
    "\n",
    "# Specific Keywords\n",
    "s.specific.cp2k.force_eval.dft.scf.max_scf  = 100\n",
    "s.specific.cp2k.force_eval.subsys.cell.periodic = 'None'\n",
    "\n",
    "print(s)"
   ]
  },
  {
   "cell_type": "markdown",
   "metadata": {},
   "source": [
    "## <font color='green'> 5. Molecule </font>\n",
    "The next component to carry out a simulation is a molecular geometry.  *qmflows* offers a convinient way to read Molecular geometries using the [Plams](https://www.scm.com/doc/plams/molecule.html) library in several formats like: *xyz* , *pdb*, *mol*, etc."
   ]
  },
  {
   "cell_type": "code",
   "execution_count": null,
   "metadata": {
    "collapsed": true
   },
   "outputs": [],
   "source": [
    "from plams import Molecule\n",
    "acetonitrile = Molecule(\"files/acetonitrile.xyz\")\n",
    "print(acetonitrile)"
   ]
  },
  {
   "cell_type": "markdown",
   "metadata": {},
   "source": [
    "You can also create the molecule one atom at a time"
   ]
  },
  {
   "cell_type": "code",
   "execution_count": null,
   "metadata": {
    "collapsed": true
   },
   "outputs": [],
   "source": [
    "from plams import (Atom, Molecule)\n",
    "m  = Molecule()\n",
    "m.add_atom(Atom(symbol='C', coords=(2.41929, 0.60656 , 0.0)))\n",
    "m.add_atom(Atom(symbol='C', coords=(1.67147,  1.82957, 0.0)))\n",
    "m.add_atom(Atom(symbol='N', coords=(1.06529, 2.80996, 0.0)))\n",
    "m.add_atom(Atom(symbol='H',  coords=(2.0, 0.0, 1.0)))\n",
    "m.add_atom(Atom(symbol='H',  coords=(2.0, 0.0, -1.0)))\n",
    "m.add_atom(Atom(symbol='H',  coords=(3.6, 0.8, 0.0)))\n",
    "print(m)"
   ]
  },
  {
   "cell_type": "markdown",
   "metadata": {},
   "source": [
    "**QMflows** Can also handle smiles as shown below"
   ]
  },
  {
   "cell_type": "code",
   "execution_count": 6,
   "metadata": {},
   "outputs": [
    {
     "name": "stdout",
     "output_type": "stream",
     "text": [
      "  Atoms: \n",
      "    1         C      2.798599     -0.150460      0.089927 \n",
      "    2         C      1.615862     -0.067227     -0.832063 \n",
      "    3         C      0.376333      0.019368      0.053118 \n",
      "    4         C     -0.347606      1.253513     -0.326955 \n",
      "    5         C     -1.822801      1.252517     -0.204840 \n",
      "    6         C     -2.446980     -0.058315      0.156076 \n",
      "    7         C     -1.752081     -1.139264     -0.623091 \n",
      "    8         C     -0.361478     -1.268307     -0.080395 \n",
      "    9         C      0.939434      0.095296      1.441284 \n",
      "   10         C      2.254053      0.292268      1.391042 \n",
      "   11         H      3.270712     -1.144983      0.118276 \n",
      "   12         H      3.579260      0.571882     -0.225622 \n",
      "   13         H      1.583048     -0.956205     -1.489932 \n",
      "   14         H      1.723819      0.828427     -1.481830 \n",
      "   15         H     -0.086390      1.553756     -1.374861 \n",
      "   16         H      0.059603      2.087392      0.301854 \n",
      "   17         H     -2.168065      1.989676      0.564557 \n",
      "   18         H     -2.314662      1.598505     -1.150678 \n",
      "   19         H     -3.508879     -0.050718     -0.200863 \n",
      "   20         H     -2.505664     -0.256055      1.238793 \n",
      "   21         H     -2.273284     -2.097029     -0.440451 \n",
      "   22         H     -1.722856     -0.837576     -1.680683 \n",
      "   23         H      0.171167     -1.989673     -0.753019 \n",
      "   24         H     -0.417079     -1.810866      0.897936 \n",
      "   25         H      0.453939     -0.226576      2.367445 \n",
      "   26         H      2.901995      0.510654      2.244971 \n",
      "  Bonds: \n",
      "   (1)--1.0--(2)\n",
      "   (2)--1.0--(3)\n",
      "   (3)--1.0--(4)\n",
      "   (4)--1.0--(5)\n",
      "   (5)--1.0--(6)\n",
      "   (6)--1.0--(7)\n",
      "   (7)--1.0--(8)\n",
      "   (3)--1.0--(9)\n",
      "   (9)--2.0--(10)\n",
      "   (10)--1.0--(1)\n",
      "   (8)--1.0--(3)\n",
      "   (1)--1.0--(11)\n",
      "   (1)--1.0--(12)\n",
      "   (2)--1.0--(13)\n",
      "   (2)--1.0--(14)\n",
      "   (4)--1.0--(15)\n",
      "   (4)--1.0--(16)\n",
      "   (5)--1.0--(17)\n",
      "   (5)--1.0--(18)\n",
      "   (6)--1.0--(19)\n",
      "   (6)--1.0--(20)\n",
      "   (7)--1.0--(21)\n",
      "   (7)--1.0--(22)\n",
      "   (8)--1.0--(23)\n",
      "   (8)--1.0--(24)\n",
      "   (9)--1.0--(25)\n",
      "   (10)--1.0--(26)\n",
      "\n"
     ]
    }
   ],
   "source": [
    "from qmflows.molkit import from_smiles\n",
    "\n",
    "# String representing the smile\n",
    "smile = 'C1CC2(CCCCC2)C=C1'\n",
    "#Molecule creation\n",
    "mol = from_smiles(smile)\n",
    "print(mol)"
   ]
  },
  {
   "cell_type": "markdown",
   "metadata": {},
   "source": [
    "The Molecule class has an extensive functionally to carry out molecular manipulations, for a comprenhesive disccusion about it have a look at the [molecule documentation](https://www.scm.com/doc/plams/molecule.html). Also the module ``qmflows.molkit`` contains an extensive functionality to apply transformation over a molecule using the [RDKit](http://www.rdkit.org/) library."
   ]
  },
  {
   "cell_type": "markdown",
   "metadata": {},
   "source": [
    "## <font color='green'> 6. Runinng a quantum mechanics simulation </font>\n",
    "We now have our components to perform a calculation: **Settings** and **Molecule**. We can now invoke a quantum chemistry package to perform the computation,"
   ]
  },
  {
   "cell_type": "code",
   "execution_count": null,
   "metadata": {
    "collapsed": true
   },
   "outputs": [],
   "source": [
    "from qmflows import adf\n",
    "optmized_mol_adf = adf(inp, acetonitrile, job_name='acetonitrile_opt')"
   ]
  },
  {
   "cell_type": "markdown",
   "metadata": {},
   "source": [
    "the previous code snippet *does not execute the code immediatly*, instead the simulation is started when the user invokes the run function, as shown below\n",
    "```python\n",
    "from plams import Molecule\n",
    "from qmflows import (adf, run, Settings, templates)\n",
    "\n",
    "# Settings\n",
    "s = templates.geometry\n",
    "s.basis = \"DZP\"\n",
    "s.specific.adf.basis.core = \"Large\"\n",
    "s.freeze = [1, 2, 3]\n",
    "\n",
    "# molecule \n",
    "from plams import Molecule\n",
    "acetonitrile = Molecule(\"acetonitrile.xyz\")\n",
    "\n",
    "# Job \n",
    "optimized_mol_adf = adf(s, acetonitrile, job_name='acetonitrile_opt')\n",
    "\n",
    "# run the  job\n",
    "result = run(optimized_mol_adf.molecule, folder='acetonitrile')\n",
    "```\n",
    "\n",
    "you can run the previous script by saving it in a file called `acetonitrile_opt.py` and typing the following command in your console:\n",
    "```bash\n",
    "(qmflows)[user@int1 ~]$ python acetonitrile_opt.py\n",
    "```\n",
    "\n",
    "you will then see in your `current work directory` something similar to the following\n",
    "\n",
    "```bash\n",
    "(qmflows)[user@int1 ~]$ ls \n",
    "acetonitrile      acetonitrile_opt.py   cache.json   acetonitrile.xyz  \n",
    "```\n",
    "\n",
    " <font color='blue'> acetonitrile </font> is the folder containing the output from the quantum package call (`ADF` in this case). The `cache.json` file contains all the information required to perform a restart, as we will explore below.\n",
    " Inside the <font color='blue'> acetonitrile </font> you can find the input/output files resulting from the simulation\n",
    "\n",
    "```bash\n",
    "(qmflows)[user@int1 ~]$ ls acetonitrile \n",
    " acetonitrile.log  acetonitrile_opt\n",
    " ```\n",
    " \n",
    " ```bash\n",
    "(qmflows)[user@int1 ~]$ ls acetonitrile/acetonitrile_opt\n",
    " acetonitrile_opt.dill  acetonitrile_opt.out  logfile  t21.N\n",
    " acetonitrile_opt.err   acetonitrile_opt.run  t21.C\n",
    " acetonitrile_opt.in    acetonitrile_opt.t21  t21.H\n",
    " ```"
   ]
  },
  {
   "cell_type": "markdown",
   "metadata": {},
   "source": [
    "## <font color='green'>  Extracting Properties </font> "
   ]
  },
  {
   "cell_type": "markdown",
   "metadata": {},
   "source": [
    "In general, properties are extracted using the standard `Object.attribute` notation in python, as shown below.\n"
   ]
  },
  {
   "cell_type": "markdown",
   "metadata": {
    "collapsed": true
   },
   "source": [
    "```python\n",
    "result = optmized_mol_adf.molecule\n",
    "```"
   ]
  },
  {
   "cell_type": "markdown",
   "metadata": {},
   "source": [
    "Some of the available properties are shown in the following table,\n",
    "\n",
    "| Property        |type           | Description  |\n",
    "| :-------------: |:-------------:| :-----:|\n",
    "|dipole        | Double  | Molecular dipole mopment\n",
    "| energy      | Double | Total energy |\n",
    "| enthalpy      | Double     |  Enthalpy |\n",
    "| gradient | Numpy array |  First derivatives of the energy\n",
    "| hessian | Numpy array| Second derivative of the energy \n",
    "|molecule | Molecule | Object representing a physical entity\n",
    "| runtime | Double      |  Time spent in the simulation |\n",
    "\n",
    "On the background *QMflows* has a mechanism to read the properties from the output files and make them available inside Python."
   ]
  },
  {
   "cell_type": "markdown",
   "metadata": {},
   "source": [
    "## <font color='green'>  Communicating different packages </font>"
   ]
  },
  {
   "cell_type": "markdown",
   "metadata": {},
   "source": [
    "We can use the previous optimized geometry for further calculations using for instance another package like *Orca* to run a frequencies calculation,"
   ]
  },
  {
   "cell_type": "code",
   "execution_count": null,
   "metadata": {
    "collapsed": true
   },
   "outputs": [],
   "source": [
    "from qmflows import orca\n",
    "s2 = Settings()\n",
    "s2.specific.orca.main = \"freq\"\n",
    "s2.specific.orca.basis.basis = 'sto_sz'\n",
    "s2.specific.orca.method.functional = 'lda'\n",
    "s2.specific.orca.method.method = 'dft'\n",
    "\n",
    "job_freq = orca(s2, optmized_mol_adf)\n",
    "\n",
    "frequencies = job_freq.frequencies"
   ]
  },
  {
   "cell_type": "markdown",
   "metadata": {
    "collapsed": true
   },
   "source": [
    "The whole script is\n",
    "```python\n",
    "from qmflows import (adf, orca, run, templates, Settings)\n",
    "from plams import Molecule\n",
    "import plams\n",
    "\n",
    "def main():\n",
    "    s = templates.geometry\n",
    "    s.basis = \"DZP\"\n",
    "    s.specific.adf.basis.core = \"large\"\n",
    "\n",
    "    acetonitrile = Molecule(\"files/acetonitrile.xyz\")\n",
    "    job = adf(inp, acetonitrile)\n",
    "    optmized_mol_adf = job.molecule\n",
    "\n",
    "    s2 = Settings()\n",
    "    s2.specific.orca.main = \"freq\"\n",
    "    s2.specific.orca.basis.basis = 'sto_sz'\n",
    "    s2.specific.orca.method.functional = 'lda'\n",
    "    s2.specific.orca.method.method = 'dft'\n",
    "\n",
    "    job_freq = orca(s2, optmized_mol_adf)\n",
    "    frequencies = job_freq.frequencies\n",
    "    \n",
    "    print(run(frequencies))\n",
    "```"
   ]
  },
  {
   "cell_type": "markdown",
   "metadata": {},
   "source": [
    "Once you run the script an input file for the *ADF*  and *Orca* jobs are created. The *ADF*  input looks like"
   ]
  },
  {
   "cell_type": "markdown",
   "metadata": {},
   "source": [
    "```\n",
    "Atoms\n",
    "      1         C      2.419290      0.606560      0.000000 \n",
    "      2         C      1.671470      1.829570      0.000000 \n",
    "      3         N      1.065290      2.809960      0.000000 \n",
    "      4         H      2.000000      0.000000      1.000000 \n",
    "      5         H      2.000000      0.000000     -1.000000 \n",
    "      6         H      3.600000      0.800000      0.000000 \n",
    "End\n",
    "\n",
    "Basis\n",
    "  Type DZP\n",
    "End\n",
    "\n",
    "Constraints\n",
    "  Atom 1\n",
    "  Atom 2\n",
    "  Atom 3\n",
    "End\n",
    "\n",
    "Geometry\n",
    "  Optim cartesian\n",
    "End\n",
    "\n",
    "Integration\n",
    "  Accint 6.0\n",
    "End\n",
    "\n",
    "Scf\n",
    "  Converge 1e-06\n",
    "  Iterations 100\n",
    "End\n",
    "```"
   ]
  },
  {
   "cell_type": "markdown",
   "metadata": {},
   "source": [
    "## <font color='green'> Running in a supercomputer </font>\n",
    "Running in **Cartesius** or **Bazis** through the *Slurm* resource manager can be done using and script like"
   ]
  },
  {
   "cell_type": "markdown",
   "metadata": {},
   "source": [
    "```bash\n",
    "#!/bin/bash\n",
    "#SBATCH -t 00:10:00\n",
    "#SBATCH -N 1\n",
    "#SBATCH -n 8\n",
    "\n",
    "module load orca\n",
    "module load adf/2016.102\n",
    "\n",
    "source activate qmflows\n",
    "python optimization_ADF_freq_ORCA.py\n",
    "```\n",
    "The Slurm output looks like:"
   ]
  },
  {
   "cell_type": "markdown",
   "metadata": {},
   "source": [
    "```\n",
    "load orca/3.0.3 (PATH)\n",
    "discarding /home/user/anaconda3/envs/qmflows/bin from PATH\n",
    "prepending /home/user/anaconda3/envs/qmflows/bin to PATH\n",
    "[11:17:59] PLAMS working folder: /nfs/home/user/orca/Opt/example/plams.23412\n",
    "+-(running jobs)\n",
    "| Running adf ...\n",
    "[11:17:59] Job ADFjob started\n",
    "[11:18:18] Job ADFjob finished with status 'successful' \n",
    "[11:18:18] Job ORCAjob started\n",
    "[11:18:26] Job ORCAjob finished with status 'successful' \n",
    "\n",
    "[    0.           0.           0.           0.           0.           0.\n",
    "  -360.547382  -360.14986    953.943089   954.3062    1049.2305\n",
    "  1385.756519  1399.961717  1399.979552  2602.599662  3080.45671\n",
    "  3175.710785  3177.612274]\n",
    "  ```"
   ]
  },
  {
   "cell_type": "markdown",
   "metadata": {},
   "source": [
    "## <font color='green'> 7. How the run function works? </font>\n",
    "### <font color='green'> A little discussion about graphs </font>\n",
    "\n",
    "*qmflows* is meant to be used for both workflow generation and execution. When you write a python script representing a workflow you are explicitly declaring  set of computations and their dependencies. For instance the following workflow represent *ADF* and *Orca* computations of the aforementioned example. In this [graph](https://en.wikipedia.org/wiki/Graph_theory) the octagons represent quantum simulation using a package, while the ovals represent both user input or data extracted from a simulation. Finally, the arrows (called edges) represent the dependencies between all these objects.\n",
    "<img src=\"files/simple_graph.png\">\n",
    "\n",
    "**QMflows** automatically identify the dependencies between computations and run them in the correct order (if possible in parallel)."
   ]
  },
  {
   "cell_type": "markdown",
   "metadata": {},
   "source": [
    "### <font color='green'> Restarting a simulation </font>\n",
    "\n",
    "If you are running many computationally expensive calculations in a supercomputer, it can happen that the computations take more time than that allowed by the resource manager in your supercomputer and the workflows gets cancel.  But do not worry, you do not need to re-run all the computations. Fortunately, *QMflows* offers a mechanism to restart the workflow computations.\n",
    "\n",
    "When running a workflow you will see that *QMflows* creates a set of files called ``cache``. These files contain the information about the workflow and its calculation. **In order to restart a workflow you only need to relaunch it**, that's it!\n"
   ]
  },
  {
   "cell_type": "markdown",
   "metadata": {},
   "source": [
    "## <font color='green'> 8. Advanced Examples </font>\n",
    "###  <font color='green'> Conditional Workflows </font>\n",
    "```python\n",
    "from noodles import gather\n",
    "from qmflows import dftb, adf, orca, run, Settings, templates, molkit, find_first_job\n",
    "\n",
    "# This examples illustrates the possibility to use different packages interchangeably.\n",
    "# Analytical frequencies are not available for B3LYP in ADF\n",
    "# This workflow captures the resulting error and submits the same job to ORCA.\n",
    "\n",
    "# Define the condition for a successful calculation\n",
    "def is_successful(result):\n",
    "    return result.status not in [\"failed\", \"crashed\"]\n",
    "\n",
    "# Generate water molecule\n",
    "water = molkit.from_smiles('[OH2]', forcefield='mmff')\n",
    "\n",
    "# Pre-optimize the water molecule\n",
    "opt_water = dftb(\n",
    "     templates.geometry, water, job_name=\"dftb_geometry\")\n",
    "\n",
    "jobs = []\n",
    "\n",
    "# Generate freq jobs for 3 functionals\n",
    "for functional in ['pbe', 'b3lyp', 'blyp']:\n",
    "    s=Settings()\n",
    "    s.basis = 'DZ'\n",
    "    s.functional = functional\n",
    "    # Try to perform the jobs with adf or orca\n",
    "    # take result from  first successful calculation\n",
    "    freqjob = find_first_job(\n",
    "          is_successful, [adf, orca], templates.freq.overlay(s), \n",
    "          opt_water.molecule, job_name=functional)\n",
    "    jobs.append(freqjob)\n",
    "\n",
    "# Run workflow\n",
    "results = run(gather(*jobs), n_processes=1)\n",
    "```\n",
    "\n",
    "After running the above script you have a table like\n",
    "\n",
    "    pbe     1533.267   3676.165   3817.097\n",
    "    b3lyp   1515.799   3670.390   3825.813\n",
    "    blyp    1529.691   3655.573   3794.110\n"
   ]
  },
  {
   "cell_type": "markdown",
   "metadata": {},
   "source": [
    "###  <font color='green'> Non-adiabatic couplings </font>\n",
    "[qmflows-namd](https://github.com/SCM-NV/qmflows-namd) is a package based on **QMflows** to compute the Non-adiabatic couplings for large system involving thr use of **QMflows**, [Cython](http://cython.org/) and [Numpy](http://www.numpy.org/).\n"
   ]
  },
  {
   "cell_type": "markdown",
   "metadata": {},
   "source": [
    "## <font color='green'> 9.  Exception Handling  </font>\n",
    "Suppose you have a set of non-dependent calculations, for example single point calculations coming from a molecular dynamic trajectory, as shown in the figure below\n",
    "<img src=\"files/simple_dependencies.png\">\n",
    "\n",
    "If one of the single point calculations fails, the rest of the point in the workflow will keep on running and the failed job will return a **None**  value for the requested property. \n",
    "\n",
    "If the single point calculation would be the dependency of another quantum calculation then the computation will crash."
   ]
  }
 ],
 "metadata": {
  "anaconda-cloud": {},
  "kernelspec": {
   "display_name": "Python 3",
   "language": "python",
   "name": "python3"
  },
  "language_info": {
   "codemirror_mode": {
    "name": "ipython",
    "version": 3
   },
   "file_extension": ".py",
   "mimetype": "text/x-python",
   "name": "python",
   "nbconvert_exporter": "python",
   "pygments_lexer": "ipython3",
   "version": "3.6.2"
  }
 },
 "nbformat": 4,
 "nbformat_minor": 1
}
