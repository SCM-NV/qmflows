{
 "cells": [
  {
   "cell_type": "markdown",
   "metadata": {},
   "source": [
    "# <font color='green'> TUTORIAL </font>"
   ]
  },
  {
   "cell_type": "markdown",
   "metadata": {},
   "source": [
    "## <font color='green'> 1. Installation in Unix </font> \n",
    "\n",
    "  - conda installation. Type in your console the following command:   \n",
    "   ```bash\n",
    "   wget https://repo.continuum.io/miniconda/Miniconda3-latest-Linux-x86_64.sh -O miniconda.sh\n",
    "   ```\n",
    "   \n",
    "  - then add miniconda to your path   \n",
    "   ```bash\n",
    "   bash miniconda.sh -b -p $HOME/miniconda\n",
    "   ```\n",
    "   \n",
    "  \n",
    "  - create new virtual environment\n",
    "   ```bash\n",
    "   conda create -q -n qmworks python=3.5\n",
    "   ```\n",
    "    \n",
    "  - Install dependecies\n",
    "   ```bash \n",
    "   conda install --name qmworks -c anaconda hdf5\n",
    "   conda install --name qmworks -c https://conda.anaconda.org/rdkit rdkit\n",
    "   ```\n",
    "    \n",
    "  - Start environment\n",
    "   ```bash\n",
    "   source activate qmworks\n",
    "   ``` \n",
    "   \n",
    "  - install **qmworks** dependencies\n",
    "    ```bash\n",
    "     pip install https://github.com/SCM-NV/qmworks/tarball/master#egg=qmworks https://github.com/SCM-NV/plams/tarball/master#egg=plams --upgrade\n",
    "    ```\n",
    "### You are ready to start!"
   ]
  },
  {
   "cell_type": "markdown",
   "metadata": {},
   "source": [
    "## <font color='green'> Starting the environment  </font>\n",
    "Once *QMWORKS*  has been installed the user should run the following command to initialize the environment:"
   ]
  },
  {
   "cell_type": "raw",
   "metadata": {},
   "source": [
    "[user@int1 ~]$ source activate qmworks\n",
    "discarding /home/user/anaconda3/bin from PATH\n",
    "prepending /home/user/anaconda3/envs/qmworks/bin to PATH\n",
    "(qmworks)[user@int1 ~]$ python --version\n",
    "Python 3.5.2 :: Anaconda custom (64-bit)"
   ]
  },
  {
   "cell_type": "markdown",
   "metadata": {},
   "source": [
    "To leave the environment the following command is used"
   ]
  },
  {
   "cell_type": "raw",
   "metadata": {},
   "source": [
    "(qmworks)[user@int1 ~]$ source deactivate\n",
    "discarding /home/user/anaconda3/envs/qmworks/bin from PATH"
   ]
  },
  {
   "cell_type": "markdown",
   "metadata": {},
   "source": [
    "## <font color='green'> QMWorks Packages </font> \n",
    "Currently **QMWORKS** offers an interface with the following simulation software:\n",
    "* #### SCM (ADF and DTFB)\n",
    "* #### CP2K\n",
    "* #### ORCA\n",
    "* #### GAMESS-US\n",
    "* #### DIRAC\n",
    "\n",
    "If you are interested in having support for other packages, request it using the [github-issues](https://github.com/SCM-NV/qmworks/issues) system (Sorry but Gaussian is out of the menu).\n",
    "\n",
    "The inteaction between aforementioned packages and ``qmworks`` is carry out through a set of python function: \n",
    "*adf, dftb, cp2k, orca, gamess and dirac*. These function invoked the quantum package using 2 mandatory arguments: a **Settings** object describing the input and a **Molecule** object containing the molecular geometry as will be detailed below.\n",
    "\n",
    "Before we continue we should emphasize that it is the users resposability to install or load the simulation package that they want to use, in most supercomputer the simulation package are load using a command like:\n",
    "```bash\n",
    "load module superAwesomeQuantumPackage/3.1421\n",
    "```\n",
    "Also some simulation packages required that you configure a scratch folder. For instance *Orca* requires a ``SCR`` folder to be defnied while *ADF*  called it ``SCM_TMPDIR``."
   ]
  },
  {
   "cell_type": "markdown",
   "metadata": {},
   "source": [
    "## <font color='green'> QMWorks Settings </font> \n",
    "*Settings* are a subclass of python [dictionaries](https://docs.python.org/3.5/tutorial/datastructures.html#dictionaries) to represent herarchical structures, like "
   ]
  },
  {
   "cell_type": "markdown",
   "metadata": {},
   "source": [
    "<img src=\"files/simpleTree.png\">"
   ]
  },
  {
   "cell_type": "code",
   "execution_count": 34,
   "metadata": {
    "collapsed": false
   },
   "outputs": [],
   "source": [
    "from qmworks import Settings\n",
    "\n",
    "s = Settings()\n",
    "s.b.z\n",
    "s.c.f\n",
    "s.c.g = 0"
   ]
  },
  {
   "cell_type": "markdown",
   "metadata": {},
   "source": [
    "These hierachical resemble the input structure used in most quantum simulation package. For instance the basis set section in ADF is given by something like:\n",
    "```\n",
    "Basis\n",
    "  Type SZ\n",
    "  Core Large\n",
    "End\n",
    "```\n",
    "We can resemble this structure using Setting,"
   ]
  },
  {
   "cell_type": "code",
   "execution_count": 35,
   "metadata": {
    "collapsed": true
   },
   "outputs": [],
   "source": [
    "s = Settings()\n",
    "s.specific.adf.basis.basis = \"DZP\"\n",
    "s.specific.adf.basis.core = \"Large\""
   ]
  },
  {
   "cell_type": "markdown",
   "metadata": {},
   "source": [
    "We are creating the *adf* herarchy under a key called *specific*, this key is used to differenciate keywords that are unique to a certain quantum package from those that can be used in several packages as we will see in the next section.\n",
    "\n",
    "In the same way we can define *Settings* for all the sections\n",
    "```\n",
    "Basis\n",
    "  Type SZ\n",
    "End\n",
    "\n",
    "Constraints\n",
    "  Dist 1 2 1.0\n",
    "End\n",
    "\n",
    "Geometry\n",
    "  Optim delocal\n",
    "End\n",
    "\n",
    "Integration\n",
    "  Accint 6.0\n",
    "End\n",
    "\n",
    "Scf\n",
    "  Converge 1e-06\n",
    "  Iterations 100\n",
    "End\n",
    "\n",
    "Xc\n",
    "  Lda\n",
    "End\n",
    "```\n",
    "Represented by"
   ]
  },
  {
   "cell_type": "code",
   "execution_count": 47,
   "metadata": {
    "collapsed": false
   },
   "outputs": [
    {
     "name": "stdout",
     "output_type": "stream",
     "text": [
      "basis: \tDZP\n",
      "specific: \t\n",
      "         adf: \t\n",
      "             Constraints: \t\n",
      "             basis: \t\n",
      "                   basis: \tDZP\n",
      "                   core: \tLarge\n",
      "\n"
     ]
    }
   ],
   "source": [
    "# Basis\n",
    "s.specific.adf.basis.basis = \"DZP\"\n",
    "s.specific.adf.basis.core = \"Large\"\n",
    "\n",
    "# Constrains\n",
    "s.specific.adf.Constraints\n",
    "print(s)"
   ]
  },
  {
   "cell_type": "markdown",
   "metadata": {},
   "source": [
    "### <font color='green'> Generic Keywords </font> \n",
    "Many of the quantum chemistry packages use gaussian type orbitals (GTO) to perform the simulation (in contrast to the slater type orbitals). These package use the same standard for the basis set and it will be really handy if we can defined a \"generic\" keyword for basis sets.\n",
    "Fortunately **qmworks** already offers such keyword that can be used among the packages that use the same basis standard"
   ]
  },
  {
   "cell_type": "code",
   "execution_count": 37,
   "metadata": {
    "collapsed": true
   },
   "outputs": [],
   "source": [
    "s = Settings()\n",
    "s.basis = \"DZP\""
   ]
  },
  {
   "cell_type": "markdown",
   "metadata": {},
   "source": [
    "Internally **qmworks** will create a hierarchical structure representing the basis *DZP* for the packages that can handle that basis set.\n",
    "Other generic keyowrds like: *functional*, *inithess*, etc. Have been implemented. "
   ]
  },
  {
   "cell_type": "markdown",
   "metadata": {},
   "source": [
    "### <font color='green'>  Templates </font> \n",
    "\n",
    "As has been shown so far, the ``Settings`` can be specified in two way: generic or specific. Generic keywords represent input properties that are present in most simulation packages like a *basis set* while *specific* keywords resemble the input structure of a given package.\n",
    " \n",
    "*Generic* and *Specific* Settings are good but would it not be nice if we can predifined a set of templates for the most common quantum chemistry simulations like: single point calculations, geometry optimizations, transition state optimization, frequency calculations, etc.?\n",
    "*qmworks* Also has a predefined set of templates that the user can use and modify. **Templates** are stored inside the **qmworks.templates** module and are load from *JSON* files. A JSON file is basically a nested dictionary that is translated to a **Settings** object by *qmworks*.\n",
    "\n",
    "Below it is shown the defaults for single point calculation"
   ]
  },
  {
   "cell_type": "code",
   "execution_count": 50,
   "metadata": {
    "collapsed": false
   },
   "outputs": [],
   "source": [
    "single_point = {\n",
    "    \"specific\": {\n",
    "        \"adf\": {\n",
    "            \"basis\": {\"type\": \"SZ\"},\n",
    "            \"xc\": {\"lda\": \"\"},\n",
    "            \"integration\": {\"accint\": 4.0},\n",
    "            \"scf\": {\n",
    "            \"converge\": 1e-6,\n",
    "            \"iterations\": 100} },\n",
    "        \"dftb\": {\n",
    "            \"task\": {\"runtype\": \"SP\"},\n",
    "            \"dftb\": {\"resourcesdir\": \"DFTB.org/3ob-3-1\"} },\n",
    "        \"cp2k\" : {\n",
    "          \"force_eval\": {\n",
    "              \"dft\": {\n",
    "                  \"basis_set_file_name\": \"\",\n",
    "                  \"mgrid\": {\n",
    "                      \"cutoff\": 400,\n",
    "                      \"ngrids\": 4\n",
    "                  },\n",
    "                  \"potential_file_name\": \"\",\n",
    "                  \"print\": {\n",
    "                      \"mo\": {\n",
    "                          \"add_last\"  : \"numeric\",\n",
    "                          \"each\": {\n",
    "                              \"qs_scf\": 0\n",
    "                          },\n",
    "                          \"eigenvalues\" : \"\",\n",
    "                          \"eigenvectors\": \"\",\n",
    "                          \"filename\": \"./mo.data\",\n",
    "                          \"ndigits\": 36,\n",
    "                          \"occupation_numbers\": \"\"\n",
    "                      }\n",
    "                  },\n",
    "                  \"qs\": {\n",
    "                      \"method\": \"gpw\"\n",
    "                  },\n",
    "                  \"scf\": {\n",
    "                      \"added_mos\": \"\",\n",
    "                      \"eps_scf\": 1e-06,\n",
    "                      \"max_scf\": 200,\n",
    "                      \"scf_guess\": \"restart\"\n",
    "                  },\n",
    "                  \"xc\": {\n",
    "                      \"xc_functional\": \"pbe\"\n",
    "                  }\n",
    "              },\n",
    "              \"subsys\": {\n",
    "                  \"cell\": {\n",
    "                      \"periodic\": \"xyz\"\n",
    "                  },\n",
    "                  \"topology\": {\n",
    "                      \"coordinate\": \"xyz\",\n",
    "                      \"coord_file_name\": \"\"\n",
    "                  }\n",
    "              }\n",
    "          },\n",
    "          \"global\": {\n",
    "              \"print_level\": \"low\",\n",
    "              \"project\": \"qmworks-cp2k\",\n",
    "              \"run_type\": \"energy_force\"\n",
    "          }\n",
    "        },\n",
    "        \"dirac\": {\n",
    "            \"DIRAC\": \"WAVEFUNCTION\",\n",
    "            \"HAMILTONIAN\": \"LEVY-LEBLOND\",\n",
    "            \"WAVE FUNCTION\": \"SCF\"\n",
    "        },\n",
    "        \"gamess\": {\n",
    "            \"basis\": {\"gbasis\": \"sto\", \"ngauss\": 3},\n",
    "            \"contrl\": {\"scftyp\": \"rhf\", \"dfttyp\": \"pbe\"}\n",
    "        },\n",
    "        \"orca\": {\n",
    "            \"method\": {\n",
    "                \"method\": \"dft\",\n",
    "                \"functional\": \"lda\"},\n",
    "            \"basis\": {\n",
    "                \"basis\": \"sto_sz\"}\n",
    "        }\n",
    "    }\n",
    "}"
   ]
  },
  {
   "cell_type": "markdown",
   "metadata": {},
   "source": [
    "If you are perfoming a bunch of *DFT* calculation for instance, you will only like to change the functional or basis set"
   ]
  },
  {
   "cell_type": "code",
   "execution_count": 39,
   "metadata": {
    "collapsed": true
   },
   "outputs": [],
   "source": [
    "from qmworks import templates\n",
    "inp = templates.geometry.overlay(s)"
   ]
  },
  {
   "cell_type": "markdown",
   "metadata": {},
   "source": [
    "The *overlay* method takes as input a template containing a default set for different packages and also takes the arguments provided by the user, as shown schematically \n",
    "<img src=\"files/merged.png\">\n",
    "\n",
    "This overlay method merged the defaults for a given packages (*ADF* in this case) with the input supplied by the user, always given preference to the user input\n",
    "<img src=\"files/result_merged.png\" width=\"700\">"
   ]
  },
  {
   "cell_type": "code",
   "execution_count": 41,
   "metadata": {
    "collapsed": false
   },
   "outputs": [
    {
     "name": "stdout",
     "output_type": "stream",
     "text": [
      "  Atoms: \n",
      "    1         C      2.419290      0.606560      0.000000 \n",
      "    2         C      1.671470      1.829570      0.000000 \n",
      "    3         N      1.065290      2.809960      0.000000 \n",
      "    4         H      2.000000      0.000000      1.000000 \n",
      "    5         H      2.000000      0.000000     -1.000000 \n",
      "    6         H      3.600000      0.800000      0.000000 \n",
      "\n"
     ]
    }
   ],
   "source": [
    "from plams import Molecule\n",
    "acetonitrile = Molecule(\"files/acetonitrile.xyz\")\n",
    "print(acetonitrile)"
   ]
  },
  {
   "cell_type": "code",
   "execution_count": 42,
   "metadata": {
    "collapsed": true
   },
   "outputs": [],
   "source": [
    "from qmworks import adf\n",
    "job = adf(inp, acetonitrile)"
   ]
  },
  {
   "cell_type": "markdown",
   "metadata": {},
   "source": [
    "### Extracting Properties\n",
    "We can easily extract the *optimized geometry* from the *ADF* calculation using the following notation"
   ]
  },
  {
   "cell_type": "code",
   "execution_count": 43,
   "metadata": {
    "collapsed": true
   },
   "outputs": [],
   "source": [
    "optmized_mol_adf = job.molecule"
   ]
  },
  {
   "cell_type": "markdown",
   "metadata": {},
   "source": [
    "We can use this geometry for further calculations using for instance another package"
   ]
  },
  {
   "cell_type": "code",
   "execution_count": 44,
   "metadata": {
    "collapsed": true
   },
   "outputs": [],
   "source": [
    "from qmworks import orca\n",
    "s2 = Settings()\n",
    "s2.specific.orca.main = \"freq\"\n",
    "s2.specific.orca.basis.basis = 'sto_sz'\n",
    "s2.specific.orca.method.functional = 'lda'\n",
    "s2.specific.orca.method.method = 'dft'\n",
    "\n",
    "job_freq = orca(s2, optmized_mol_adf)\n",
    "\n",
    "frequencies = job_freq.frequencies"
   ]
  },
  {
   "cell_type": "markdown",
   "metadata": {},
   "source": [
    "# <font color='blue'> Running the script </font>\n"
   ]
  },
  {
   "cell_type": "markdown",
   "metadata": {},
   "source": [
    "The final python script looks like:"
   ]
  },
  {
   "cell_type": "code",
   "execution_count": 45,
   "metadata": {
    "collapsed": true
   },
   "outputs": [],
   "source": [
    "from qmworks import (adf, orca, run, Settings)\n",
    "from plams import Molecule\n",
    "import plams\n",
    "\n",
    "def main():\n",
    "    plams.init()\n",
    "    acetonitrile = Molecule(\"files/acetonitrile.xyz\")\n",
    "    s = Settings()\n",
    "    s.basis = \"DZP\"\n",
    "    s.specific.adf.basis.core = \"large\"\n",
    "\n",
    "    acetonitrile = Molecule(\"files/acetonitrile.xyz\")\n",
    "    job = adf(inp, acetonitrile)\n",
    "\n",
    "    s2 = Settings()\n",
    "    s2.specific.orca.main = \"freq\"\n",
    "    s2.specific.orca.basis.basis = 'sto_sz'\n",
    "    s2.specific.orca.method.functional = 'lda'\n",
    "    s2.specific.orca.method.method = 'dft'\n",
    "\n",
    "    job_freq = orca(s2, optmized_mol_adf)\n",
    "    frequencies = job_freq.frequencies\n",
    "    \n",
    "    print(run(frequencies))"
   ]
  },
  {
   "cell_type": "markdown",
   "metadata": {},
   "source": [
    "## A little discussion about graphs\n",
    "*qmworks* is meant to be used for both workflow generation and execution,\n",
    "\n",
    "<img src=\"files/simple_graph.png\">"
   ]
  },
  {
   "cell_type": "code",
   "execution_count": 46,
   "metadata": {
    "collapsed": true
   },
   "outputs": [],
   "source": [
    "from qmworks import run"
   ]
  },
  {
   "cell_type": "markdown",
   "metadata": {
    "collapsed": true
   },
   "source": [
    "\n",
    "### <font color='green'> result = run(frequencies) </font>"
   ]
  },
  {
   "cell_type": "markdown",
   "metadata": {},
   "source": [
    "Once you run the script, as you we will see in the next section, an input file for the *ADF* job is created"
   ]
  },
  {
   "cell_type": "raw",
   "metadata": {},
   "source": [
    "Atoms\n",
    "      1         C      2.419290      0.606560      0.000000 \n",
    "      2         C      1.671470      1.829570      0.000000 \n",
    "      3         N      1.065290      2.809960      0.000000 \n",
    "      4         H      2.000000      0.000000      1.000000 \n",
    "      5         H      2.000000      0.000000     -1.000000 \n",
    "      6         H      3.600000      0.800000      0.000000 \n",
    "End\n",
    "\n",
    "Basis\n",
    "  Type DZP\n",
    "End\n",
    "\n",
    "Constraints\n",
    "  Atom 1\n",
    "  Atom 2\n",
    "  Atom 3\n",
    "End\n",
    "\n",
    "Geometry\n",
    "  Optim cartesian\n",
    "End\n",
    "\n",
    "Integration\n",
    "  Accint 6.0\n",
    "End\n",
    "\n",
    "Scf\n",
    "  Converge 1e-06\n",
    "  Iterations 100\n",
    "End"
   ]
  },
  {
   "cell_type": "markdown",
   "metadata": {},
   "source": [
    "Running in **Cartesius** or **Bazis** through the *Slurm* resource manager can be done using and script like"
   ]
  },
  {
   "cell_type": "raw",
   "metadata": {},
   "source": [
    "#!/bin/bash\n",
    "#SBATCH -t 00:10:00\n",
    "#SBATCH -N 1\n",
    "#SBATCH -n 8\n",
    "\n",
    "module load orca\n",
    "module load adf/2016.102\n",
    "\n",
    "source activate qmworks\n",
    "python optimization_ADF_freq_ORCA.py"
   ]
  },
  {
   "cell_type": "markdown",
   "metadata": {},
   "source": [
    "The Slurm output looks like:"
   ]
  },
  {
   "cell_type": "raw",
   "metadata": {},
   "source": [
    "load orca/3.0.3 (PATH)\n",
    "discarding /home/fza900/anaconda3/envs/qmworks/bin from PATH\n",
    "prepending /home/fza900/anaconda3/envs/qmworks/bin to PATH\n",
    "[11:17:59] PLAMS working folder: /nfs/home6/fza900/orca/Opt/example/plams.23412\n",
    "+-(running jobs)\n",
    "| Running adf ...\n",
    "[11:17:59] Job ADFjob started\n",
    "[11:18:18] Job ADFjob finished with status 'successful' \n",
    "[11:18:18] Job ORCAjob started\n",
    "[11:18:26] Job ORCAjob finished with status 'successful' \n",
    "\n",
    "[    0.           0.           0.           0.           0.           0.\n",
    "  -360.547382  -360.14986    953.943089   954.3062    1049.2305\n",
    "  1385.756519  1399.961717  1399.979552  2602.599662  3080.45671\n",
    "  3175.710785  3177.612274]"
   ]
  }
 ],
 "metadata": {
  "anaconda-cloud": {},
  "kernelspec": {
   "display_name": "Python [default]",
   "language": "python",
   "name": "python3"
  },
  "language_info": {
   "codemirror_mode": {
    "name": "ipython",
    "version": 3
   },
   "file_extension": ".py",
   "mimetype": "text/x-python",
   "name": "python",
   "nbconvert_exporter": "python",
   "pygments_lexer": "ipython3",
   "version": "3.5.2"
  }
 },
 "nbformat": 4,
 "nbformat_minor": 1
}
