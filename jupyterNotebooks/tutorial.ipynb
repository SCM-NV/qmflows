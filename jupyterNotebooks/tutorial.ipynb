{
 "cells": [
  {
   "cell_type": "markdown",
   "metadata": {},
   "source": [
    "# <font color='green'> TUTORIAL </font>\n",
    "\n",
    "## <font color='green'> Table of content </font>\n",
    "\n",
    "1. **Installation**\n",
    "2. **Packages**\n",
    "3. **Settings**\n",
    "4. **Templates**\n",
    "5. **Molecules**\n",
    "6.  ** Runinng a quantum mechanics simulation**\n",
    "7. ** Restarting a simulation**\n",
    "\n"
   ]
  },
  {
   "cell_type": "markdown",
   "metadata": {},
   "source": [
    "## <font color='green'> 1. Installation in Unix </font> \n",
    "\n",
    "  - conda installation. Type in your console the following command:   \n",
    "   ```bash\n",
    "   wget https://repo.continuum.io/miniconda/Miniconda3-latest-Linux-x86_64.sh -O miniconda.sh\n",
    "   ```\n",
    "   \n",
    "  - then add miniconda to your path   \n",
    "   ```bash\n",
    "   bash miniconda.sh -b -p $HOME/miniconda\n",
    "   ```\n",
    "   \n",
    "  \n",
    "  - create new virtual environment\n",
    "   ```bash\n",
    "   conda create -q -n qmworks python=3.5\n",
    "   ```\n",
    "    \n",
    "  - Install dependecies\n",
    "   ```bash \n",
    "   conda install --name qmworks -c anaconda hdf5\n",
    "   conda install --name qmworks -c https://conda.anaconda.org/rdkit rdkit\n",
    "   ```\n",
    "    \n",
    "  - Start environment\n",
    "   ```bash\n",
    "   source activate qmworks\n",
    "   ``` \n",
    "   \n",
    "  - install **qmworks** dependencies\n",
    "    ```bash\n",
    "     pip install https://github.com/SCM-NV/qmworks/tarball/master#egg=qmworks https://github.com/SCM-NV/plams/tarball/master#egg=plams --upgrade\n",
    "    ```\n",
    "** You are ready to start! **"
   ]
  },
  {
   "cell_type": "markdown",
   "metadata": {},
   "source": [
    "## <font color='green'> Starting the environment  </font>\n",
    "Once *QMWORKS*  has been installed the user should run the following command to initialize the environment:"
   ]
  },
  {
   "cell_type": "markdown",
   "metadata": {},
   "source": [
    "```bash\n",
    "[user@int1 ~]$ source activate qmworks\n",
    "discarding /home/user/anaconda3/bin from PATH\n",
    "prepending /home/user/anaconda3/envs/qmworks/bin to PATH\n",
    "(qmworks)[user@int1 ~]$ python --version\n",
    "Python 3.5.2 :: Anaconda custom (64-bit)\n",
    "```"
   ]
  },
  {
   "cell_type": "markdown",
   "metadata": {},
   "source": [
    "To leave the environment the following command is used"
   ]
  },
  {
   "cell_type": "markdown",
   "metadata": {},
   "source": [
    "```bash\n",
    "(qmworks)[user@int1 ~]$ source deactivate\n",
    "discarding /home/user/anaconda3/envs/qmworks/bin from PATH\n",
    "```"
   ]
  },
  {
   "cell_type": "markdown",
   "metadata": {},
   "source": [
    "## <font color='green'> 2. QMWorks Packages </font> \n",
    "Currently `qmworks` offers an interface with the following simulation softwares:\n",
    "* SCM (ADF and DTFB)\n",
    "* CP2K\n",
    "* ORCA\n",
    "* GAMESS-US\n",
    "* DIRAC\n",
    "\n",
    "If you are interested in having support for other packages, request it using the [github-issues](https://github.com/SCM-NV/qmworks/issues) system (Sorry but Gaussian is out of the menu!).\n",
    "\n",
    "The inteaction between aforementioned packages and *qmworks* is carry out through a set of python functions: \n",
    "*adf, dftb, cp2k, orca, gamess and dirac*. These functions invoke the quantum package using 2 mandatory arguments: a **Settings** object describing the input and a **Molecule** object containing the molecular geometry as will be detailed below.\n",
    "\n",
    "#### <font color='orange'> Technical note: </font> \n",
    "It is users responsebility to install or load simulation packages that they want to use, in most supercomputers these simulation packages are available using a command like (consult your system administrator):\n",
    "```bash\n",
    "load module superAwesomeQuantumPackage/3.1421\n",
    "```\n",
    "Also some simulation packages required that you configure a `scratch` folder. For instance *Orca* requires a ``SCR`` folder to be defined while *ADF*  called it ``SCM_TMPDIR``."
   ]
  },
  {
   "cell_type": "markdown",
   "metadata": {},
   "source": [
    "## <font color='green'> 3. QMWorks Settings </font> \n",
    "*Settings* are a subclass of python [dictionaries](https://docs.python.org/3.5/tutorial/datastructures.html#dictionaries) to represent herarchical structures, like "
   ]
  },
  {
   "cell_type": "markdown",
   "metadata": {},
   "source": [
    "<img src=\"files/simpleTree.png\">"
   ]
  },
  {
   "cell_type": "code",
   "execution_count": 30,
   "metadata": {
    "collapsed": false
   },
   "outputs": [],
   "source": [
    "from qmworks import Settings\n",
    "\n",
    "s = Settings()\n",
    "s.b.z\n",
    "s.c.f\n",
    "s.c.g = 0"
   ]
  },
  {
   "cell_type": "markdown",
   "metadata": {},
   "source": [
    "These hierachical resemble the input structure used in most quantum simulation package. For instance the basis set section in ADF is given by something like:\n",
    "```\n",
    "Basis\n",
    "  Type DZP\n",
    "  Core Large\n",
    "End\n",
    "```\n",
    "We can resemble this structure using **Settings**,"
   ]
  },
  {
   "cell_type": "code",
   "execution_count": 31,
   "metadata": {
    "collapsed": true
   },
   "outputs": [],
   "source": [
    "s = Settings()\n",
    "s.specific.adf.basis.basis = \"DZP\"\n",
    "s.specific.adf.basis.core = \"Large\""
   ]
  },
  {
   "cell_type": "markdown",
   "metadata": {},
   "source": [
    "We are creating the *adf*  hierarchy under a key called *specific*, this key is used to differentiate keywords that are unique to a certain quantum package from those that can be used in several packages as we will see in the next section.\n",
    "\n",
    "similarly, we can define ``Settings`` for all the sections\n",
    "```\n",
    "Basis\n",
    "  Type DZP\n",
    "End\n",
    "\n",
    "Constraints\n",
    "  Dist 1 2 1.0\n",
    "End\n",
    "\n",
    "Geometry\n",
    "  Optim delocal\n",
    "End\n",
    "\n",
    "Integration\n",
    "  Accint 6.0\n",
    "End\n",
    "\n",
    "Scf\n",
    "  Converge 1e-06\n",
    "  Iterations 100\n",
    "End\n",
    "\n",
    "Xc\n",
    "  Lda\n",
    "End\n",
    "```\n",
    "Represented by the following code"
   ]
  },
  {
   "cell_type": "code",
   "execution_count": 32,
   "metadata": {
    "collapsed": false
   },
   "outputs": [
    {
     "name": "stdout",
     "output_type": "stream",
     "text": [
      "specific: \t\n",
      "         adf: \t\n",
      "             basis: \t\n",
      "                   basis: \tDZP\n",
      "                   core: \tLarge\n",
      "             constraints: \t\n",
      "                         dist: \t1 2 1.0\n",
      "             geometry: \t\n",
      "                      optim: \tdelocal\n",
      "             integration: \t\n",
      "                         accint: \t6.0\n",
      "             scf: \t\n",
      "                 converge: \t1e-06\n",
      "                 iterations: \t100\n",
      "             xc: \t\n",
      "                lda: \t\n",
      "\n"
     ]
    }
   ],
   "source": [
    "s = Settings()\n",
    "\n",
    "# Basis\n",
    "s.specific.adf.basis.basis = \"DZP\"\n",
    "s.specific.adf.basis.core = \"Large\"\n",
    "\n",
    "# Constrains\n",
    "s.specific.adf.constraints.dist  = \"1 2 1.0\"\n",
    "\n",
    "#Geometry\n",
    "s.specific.adf.geometry.optim = 'delocal'\n",
    "\n",
    "#Integration\n",
    "s.specific.adf.integration.accint = 6.0\n",
    "\n",
    "# SCF\n",
    "s.specific.adf.scf.converge = 1e-6\n",
    "s.specific.adf.scf.iterations = 100\n",
    "\n",
    "# Functional\n",
    "s.specific.adf.xc.lda\n",
    "\n",
    "print(s)"
   ]
  },
  {
   "cell_type": "markdown",
   "metadata": {},
   "source": [
    "You don't need to explicitly declare the `end` keyword, *qmworks* knows how to hande them."
   ]
  },
  {
   "cell_type": "markdown",
   "metadata": {},
   "source": [
    "### <font color='green'> Generic Keywords </font> \n",
    "Many of the quantum chemistry packages use gaussian type orbitals (GTO) to perform the simulation (in contrast to the slater type orbitals). These package use the same standards for the basis set and it will be really handy if we can defined a \"generic\" keyword for basis sets.\n",
    "Fortunately ``qmworks`` already offers such keyword that can be used among the packages that use the same basis standard,"
   ]
  },
  {
   "cell_type": "code",
   "execution_count": 33,
   "metadata": {
    "collapsed": true
   },
   "outputs": [],
   "source": [
    "s = Settings()\n",
    "s.basis = \"DZP\""
   ]
  },
  {
   "cell_type": "markdown",
   "metadata": {},
   "source": [
    "Internally **qmworks** will create a hierarchical structure representing basis *DZP* for the packages that can handle that basis set.\n",
    "Other generic keyowrds like: ``functional``, ``inithess``, etc. have been implemented. "
   ]
  },
  {
   "cell_type": "markdown",
   "metadata": {},
   "source": [
    "## <font color='green'>  4. Templates </font> \n",
    "\n",
    "As has been shown so far,  **Settings** can be specified in two ways: generic or specific. Generic keywords represent input properties that are present in most simulation packages like a *basis set* while *specific* keywords resemble the input structure of a given package.\n",
    " \n",
    "*Generic* and *Specific* **Settings**  can express both simple and complex simulation inputs,  but it would be nice if we can pre-defined a set of templates for the most common quantum chemistry simulations like: single point calculations, geometry optimizations, transition state optimization, frequency calculations, etc.\n",
    "*qmworks* already has a pre-defined set of templates  containing some defaults that the user can modify for her/his own purpose. ``Templates`` are stored inside the ``qmworks.templates`` module and are load from *JSON* files. A JSON file is basically a nested dictionary that is translated to a ``Settings`` object by *qmworks*.\n",
    "\n",
    "Below it is shown the defaults for single point calculation"
   ]
  },
  {
   "cell_type": "code",
   "execution_count": 34,
   "metadata": {
    "collapsed": false
   },
   "outputs": [],
   "source": [
    "single_point = {\n",
    "    \"specific\": {\n",
    "        \"adf\": {\n",
    "            \"basis\": {\"type\": \"SZ\"},\n",
    "            \"xc\": {\"lda\": \"\"},\n",
    "            \"integration\": {\"accint\": 4.0},\n",
    "            \"scf\": {\n",
    "            \"converge\": 1e-6,\n",
    "            \"iterations\": 100} },\n",
    "        \"dftb\": {\n",
    "            \"task\": {\"runtype\": \"SP\"},\n",
    "            \"dftb\": {\"resourcesdir\": \"DFTB.org/3ob-3-1\"} },\n",
    "        \"cp2k\" : {\n",
    "          \"force_eval\": {\n",
    "              \"dft\": {\n",
    "                  \"basis_set_file_name\": \"\",\n",
    "                  \"mgrid\": {\n",
    "                      \"cutoff\": 400,\n",
    "                      \"ngrids\": 4\n",
    "                  },\n",
    "                  \"potential_file_name\": \"\",\n",
    "                  \"print\": {\n",
    "                      \"mo\": {\n",
    "                          \"add_last\"  : \"numeric\",\n",
    "                          \"each\": {\n",
    "                              \"qs_scf\": 0\n",
    "                          },\n",
    "                          \"eigenvalues\" : \"\",\n",
    "                          \"eigenvectors\": \"\",\n",
    "                          \"filename\": \"./mo.data\",\n",
    "                          \"ndigits\": 36,\n",
    "                          \"occupation_numbers\": \"\"\n",
    "                      }\n",
    "                  },\n",
    "                  \"qs\": {\n",
    "                      \"method\": \"gpw\"\n",
    "                  },\n",
    "                  \"scf\": {\n",
    "                      \"added_mos\": \"\",\n",
    "                      \"eps_scf\": 1e-06,\n",
    "                      \"max_scf\": 200,\n",
    "                      \"scf_guess\": \"restart\"\n",
    "                  },\n",
    "                  \"xc\": {\n",
    "                      \"xc_functional\": \"pbe\"\n",
    "                  }\n",
    "              },\n",
    "              \"subsys\": {\n",
    "                  \"cell\": {\n",
    "                      \"periodic\": \"xyz\"\n",
    "                  },\n",
    "                  \"topology\": {\n",
    "                      \"coordinate\": \"xyz\",\n",
    "                      \"coord_file_name\": \"\"\n",
    "                  }\n",
    "              }\n",
    "          },\n",
    "          \"global\": {\n",
    "              \"print_level\": \"low\",\n",
    "              \"project\": \"qmworks-cp2k\",\n",
    "              \"run_type\": \"energy_force\"\n",
    "          }\n",
    "        },\n",
    "        \"dirac\": {\n",
    "            \"DIRAC\": \"WAVEFUNCTION\",\n",
    "            \"HAMILTONIAN\": \"LEVY-LEBLOND\",\n",
    "            \"WAVE FUNCTION\": \"SCF\"\n",
    "        },\n",
    "        \"gamess\": {\n",
    "            \"basis\": {\"gbasis\": \"sto\", \"ngauss\": 3},\n",
    "            \"contrl\": {\"scftyp\": \"rhf\", \"dfttyp\": \"pbe\"}\n",
    "        },\n",
    "        \"orca\": {\n",
    "            \"method\": {\n",
    "                \"method\": \"dft\",\n",
    "                \"functional\": \"lda\"},\n",
    "            \"basis\": {\n",
    "                \"basis\": \"sto_sz\"}\n",
    "        }\n",
    "    }\n",
    "}"
   ]
  },
  {
   "cell_type": "markdown",
   "metadata": {},
   "source": [
    "The question is then, how I can modify a template with my own changes?\n",
    "\n",
    "Suppose you are perfoming a bunch of  constrained *DFT* optimizations using ` ADF ` . You need first to define a basis set  and the constrains."
   ]
  },
  {
   "cell_type": "code",
   "execution_count": 35,
   "metadata": {
    "collapsed": true
   },
   "outputs": [],
   "source": [
    "s = Settings()\n",
    "# Basis\n",
    "s.basis = \"DZP\"\n",
    "s.specific.adf.basis.core = \"Large\"\n",
    "\n",
    "# Constrain\n",
    "s.freeze = [1, 2, 3]"
   ]
  },
  {
   "cell_type": "markdown",
   "metadata": {},
   "source": [
    "We use two *generic*  keywords: `freeze` to indicate a constrain and `basis` to provide the basis set. Also, we introduce an specific `ADF` keywords `core = Large`.\n",
    "Now you merge your **Settings** with the correspoding template to carry out molecular geometry optimizations, using a method called `overlay`."
   ]
  },
  {
   "cell_type": "code",
   "execution_count": 36,
   "metadata": {
    "collapsed": true
   },
   "outputs": [],
   "source": [
    "from qmworks import templates\n",
    "inp = templates.geometry.overlay(s)"
   ]
  },
  {
   "cell_type": "markdown",
   "metadata": {},
   "source": [
    "The ``overlay`` method takes as input a template containing a default set for different packages and also takes the arguments provided by the user, as shown schematically \n",
    "<img src=\"files/merged.png\">\n",
    "\n",
    "This `overlay` method merged the defaults for a given packages (*ADF* in this case) with the input supplied by the user, always given preference to the user input\n",
    "<img src=\"files/result_merged.png\" width=\"700\">"
   ]
  },
  {
   "cell_type": "markdown",
   "metadata": {},
   "source": [
    "## <font color='green'> 5. Molecule </font>\n",
    "The next component to carry out a simulation is a molecular geometry.  *qmworks* offers a convinient way to read Molecular geometries using the [Plams](https://www.scm.com/doc/plams/molecule.html) library in several formats like: *xyz* (default), *pdb*, mol, etc."
   ]
  },
  {
   "cell_type": "code",
   "execution_count": 37,
   "metadata": {
    "collapsed": false
   },
   "outputs": [
    {
     "name": "stdout",
     "output_type": "stream",
     "text": [
      "  Atoms: \n",
      "    1         C      2.419290      0.606560      0.000000 \n",
      "    2         C      1.671470      1.829570      0.000000 \n",
      "    3         N      1.065290      2.809960      0.000000 \n",
      "    4         H      2.000000      0.000000      1.000000 \n",
      "    5         H      2.000000      0.000000     -1.000000 \n",
      "    6         H      3.600000      0.800000      0.000000 \n",
      "\n"
     ]
    }
   ],
   "source": [
    "from plams import Molecule\n",
    "acetonitrile = Molecule(\"files/acetonitrile.xyz\")\n",
    "print(acetonitrile)"
   ]
  },
  {
   "cell_type": "markdown",
   "metadata": {},
   "source": [
    "You can also create the molecule one atom at a time"
   ]
  },
  {
   "cell_type": "code",
   "execution_count": 44,
   "metadata": {
    "collapsed": false
   },
   "outputs": [
    {
     "name": "stdout",
     "output_type": "stream",
     "text": [
      "  Atoms: \n",
      "    1         C      2.419290      0.606560      0.000000 \n",
      "    2         C      1.671470      1.829570      0.000000 \n",
      "    3         N      1.065290      2.809960      0.000000 \n",
      "    4         H      2.000000      0.000000      1.000000 \n",
      "    5         H      2.000000      0.000000     -1.000000 \n",
      "    6         H      3.600000      0.800000      0.000000 \n",
      "\n"
     ]
    }
   ],
   "source": [
    "from plams import (Atom, Molecule)\n",
    "m  = Molecule()\n",
    "m.add_atom(Atom(symbol='C', coords=(2.41929, 0.60656 , 0.0)))\n",
    "m.add_atom(Atom(symbol='C', coords=(1.67147,  1.82957, 0.0)))\n",
    "m.add_atom(Atom(symbol='N', coords=(1.06529, 2.80996, 0.0)))\n",
    "m.add_atom(Atom(symbol='H',  coords=(2.0, 0.0, 1.0)))\n",
    "m.add_atom(Atom(symbol='H',  coords=(2.0, 0.0, -1.0)))\n",
    "m.add_atom(Atom(symbol='H',  coords=(3.6, 0.8, 0.0)))\n",
    "print(m)"
   ]
  },
  {
   "cell_type": "markdown",
   "metadata": {},
   "source": [
    "## <font color='green'> 6. Runinng a quantum mechanics simulation </font>\n",
    "We now have our components to perform a calculation: **Settings** and **Molecule**. We can now invoke a quantum chemistry package to perform the computation,"
   ]
  },
  {
   "cell_type": "code",
   "execution_count": 38,
   "metadata": {
    "collapsed": true
   },
   "outputs": [],
   "source": [
    "from qmworks import adf\n",
    "optmized_mol_adf = adf(inp, acetonitrile, job_name='acetonitrile_opt')"
   ]
  },
  {
   "cell_type": "markdown",
   "metadata": {},
   "source": [
    "the previous code snippet *does not execute the code immediatly*, instead the simulation is started when the user invokes the run function, as shown below\n",
    "```python\n",
    "from plams import Molecule\n",
    "from qmworks import (adf, run, Settings)\n",
    "\n",
    "# Settings\n",
    "s = Settings()\n",
    "s.basis = \"DZP\"\n",
    "s.specific.adf.basis.core = \"Large\"\n",
    "s.freeze = [1, 2, 3]\n",
    "\n",
    "# molecule \n",
    "from plams import Molecule\n",
    "acetonitrile = Molecule(\"files/acetonitrile.xyz\")\n",
    "\n",
    "# Job \n",
    "optmized_mol_adf = adf(inp, acetonitrile, job_name='acetonitrile_opt')\n",
    "# run the  job\n",
    "results = run(optimized_mol_adf)\n",
    "```"
   ]
  },
  {
   "cell_type": "markdown",
   "metadata": {},
   "source": [
    "## <font color='green'>  Extracting Properties </font> \n",
    "We can easily extract the *optimized geometry* from the *ADF* calculation using the following notation"
   ]
  },
  {
   "cell_type": "code",
   "execution_count": 39,
   "metadata": {
    "collapsed": true
   },
   "outputs": [],
   "source": [
    "optmized_mol_adf = job.molecule"
   ]
  },
  {
   "cell_type": "markdown",
   "metadata": {},
   "source": [
    "In general, properties are extracted using the standard `Object.attribute` notation in python, as shown in the above example. \n",
    "\n",
    "User can request for properties like: energy, frequencies, dipole, etc. The Available properties depends on the package (please have a look at link for more detailed information [package tutorial](https://github.com/SCM-NV/qmworks/tree/develop/jupyterNotebooks))"
   ]
  },
  {
   "cell_type": "markdown",
   "metadata": {},
   "source": [
    "## <font color='green'>  Communicating different packages </font>"
   ]
  },
  {
   "cell_type": "markdown",
   "metadata": {},
   "source": [
    "We can use the previous optimized geometry for further calculations using for instance another package like *Orca* to run a frequencies calculation,"
   ]
  },
  {
   "cell_type": "code",
   "execution_count": 40,
   "metadata": {
    "collapsed": true
   },
   "outputs": [],
   "source": [
    "from qmworks import orca\n",
    "s2 = Settings()\n",
    "s2.specific.orca.main = \"freq\"\n",
    "s2.specific.orca.basis.basis = 'sto_sz'\n",
    "s2.specific.orca.method.functional = 'lda'\n",
    "s2.specific.orca.method.method = 'dft'\n",
    "\n",
    "job_freq = orca(s2, optmized_mol_adf)\n",
    "\n",
    "frequencies = job_freq.frequencies"
   ]
  },
  {
   "cell_type": "markdown",
   "metadata": {
    "collapsed": true
   },
   "source": [
    "The whole script is\n",
    "```python\n",
    "from qmworks import (adf, orca, run, Settings)\n",
    "from plams import Molecule\n",
    "import plams\n",
    "\n",
    "def main():\n",
    "    acetonitrile = Molecule(\"files/acetonitrile.xyz\")\n",
    "    s = Settings()\n",
    "    s.basis = \"DZP\"\n",
    "    s.specific.adf.basis.core = \"large\"\n",
    "\n",
    "    acetonitrile = Molecule(\"files/acetonitrile.xyz\")\n",
    "    job = adf(inp, acetonitrile)\n",
    "    optmized_mol_adf = job.molecule\n",
    "\n",
    "    s2 = Settings()\n",
    "    s2.specific.orca.main = \"freq\"\n",
    "    s2.specific.orca.basis.basis = 'sto_sz'\n",
    "    s2.specific.orca.method.functional = 'lda'\n",
    "    s2.specific.orca.method.method = 'dft'\n",
    "\n",
    "    job_freq = orca(s2, optmized_mol_adf)\n",
    "    frequencies = job_freq.frequencies\n",
    "    \n",
    "    print(run(frequencies))\n",
    "    \n",
    "if  __name__ == \"__main__\":\n",
    "    main()\n",
    "```"
   ]
  },
  {
   "cell_type": "markdown",
   "metadata": {},
   "source": [
    "Once you run the script an input file for the *ADF*  and *Orca* jobs are created. The *ADF*  input looks like"
   ]
  },
  {
   "cell_type": "markdown",
   "metadata": {},
   "source": [
    "```\n",
    "Atoms\n",
    "      1         C      2.419290      0.606560      0.000000 \n",
    "      2         C      1.671470      1.829570      0.000000 \n",
    "      3         N      1.065290      2.809960      0.000000 \n",
    "      4         H      2.000000      0.000000      1.000000 \n",
    "      5         H      2.000000      0.000000     -1.000000 \n",
    "      6         H      3.600000      0.800000      0.000000 \n",
    "End\n",
    "\n",
    "Basis\n",
    "  Type DZP\n",
    "End\n",
    "\n",
    "Constraints\n",
    "  Atom 1\n",
    "  Atom 2\n",
    "  Atom 3\n",
    "End\n",
    "\n",
    "Geometry\n",
    "  Optim cartesian\n",
    "End\n",
    "\n",
    "Integration\n",
    "  Accint 6.0\n",
    "End\n",
    "\n",
    "Scf\n",
    "  Converge 1e-06\n",
    "  Iterations 100\n",
    "End\n",
    "```"
   ]
  },
  {
   "cell_type": "markdown",
   "metadata": {},
   "source": [
    "## <font color='green'> How the run function works? </font>\n",
    "### <font color='green'> A little discussion about graphs </font>\n",
    "\n",
    "*qmworks* is meant to be used for both workflow generation and execution. When you write a python script representing a workflow you are explicitly declaring  set of computations and their dependencies. For instance the following workflow represent *ADF* and *Orca* computations of above mentioned examples. In this [graph](https://en.wikipedia.org/wiki/Graph_theory) the octagons represent quantum simulation using a package, while the ovals represent both user input or data extracted from a simulation. Finally, the arrows (called edges) represent the dependencies between all these objects.\n",
    "<img src=\"files/simple_graph.png\">\n",
    "\n",
    "**QMWorks** automatically identify the dependencies between computations and run them in the correct order (if possible in parallel)."
   ]
  },
  {
   "cell_type": "markdown",
   "metadata": {},
   "source": [
    "## <font color='green'> Running in a supercomputer </font>"
   ]
  },
  {
   "cell_type": "markdown",
   "metadata": {},
   "source": [
    "Running in **Cartesius** or **Bazis** through the *Slurm* resource manager can be done using and script like"
   ]
  },
  {
   "cell_type": "markdown",
   "metadata": {},
   "source": [
    "```bash\n",
    "#!/bin/bash\n",
    "#SBATCH -t 00:10:00\n",
    "#SBATCH -N 1\n",
    "#SBATCH -n 8\n",
    "\n",
    "module load orca\n",
    "module load adf/2016.102\n",
    "\n",
    "source activate qmworks\n",
    "python optimization_ADF_freq_ORCA.py\n",
    "```"
   ]
  },
  {
   "cell_type": "markdown",
   "metadata": {},
   "source": [
    "The Slurm output looks like:"
   ]
  },
  {
   "cell_type": "markdown",
   "metadata": {},
   "source": [
    "```\n",
    "load orca/3.0.3 (PATH)\n",
    "discarding /home/user/anaconda3/envs/qmworks/bin from PATH\n",
    "prepending /home/user/anaconda3/envs/qmworks/bin to PATH\n",
    "[11:17:59] PLAMS working folder: /nfs/home/user/orca/Opt/example/plams.23412\n",
    "+-(running jobs)\n",
    "| Running adf ...\n",
    "[11:17:59] Job ADFjob started\n",
    "[11:18:18] Job ADFjob finished with status 'successful' \n",
    "[11:18:18] Job ORCAjob started\n",
    "[11:18:26] Job ORCAjob finished with status 'successful' \n",
    "\n",
    "[    0.           0.           0.           0.           0.           0.\n",
    "  -360.547382  -360.14986    953.943089   954.3062    1049.2305\n",
    "  1385.756519  1399.961717  1399.979552  2602.599662  3080.45671\n",
    "  3175.710785  3177.612274]\n",
    "  ```"
   ]
  },
  {
   "cell_type": "markdown",
   "metadata": {},
   "source": [
    "## <font color='green'> 6. Restarting a simulation </font>\n",
    "\n",
    "If you are running many computationally expensive calculations in a supercomputer, it can happen that the computations take more time than that allowed by the resource manager in your supercomputer and the workflows gets cancel.  But do not worry, you do not need to re-run all the computations. Fortunately, *QMWorks* offers a mechanism to restart the workflow computations.\n",
    "\n",
    "When running a workflow you will see that *QMWorks* creates a set of files called ``cache``. These files contain the information about the workflow and its calculation. **In order to restart a workflow you only need to relaunch it**, that's it!\n"
   ]
  }
 ],
 "metadata": {
  "anaconda-cloud": {},
  "kernelspec": {
   "display_name": "Python 3",
   "language": "python",
   "name": "python3"
  },
  "language_info": {
   "codemirror_mode": {
    "name": "ipython",
    "version": 3
   },
   "file_extension": ".py",
   "mimetype": "text/x-python",
   "name": "python",
   "nbconvert_exporter": "python",
   "pygments_lexer": "ipython3",
   "version": "3.5.2"
  }
 },
 "nbformat": 4,
 "nbformat_minor": 1
}
