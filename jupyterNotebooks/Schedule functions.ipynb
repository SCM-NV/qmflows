{
 "cells": [
  {
   "cell_type": "markdown",
   "metadata": {},
   "source": [
    "# <font color='green'>ADVANCE TUTORIAL: </font>\n",
    "## <font color='green'>Creating Schedule function </font>\n",
    "\n",
    "In the introduction to *QMWorks* tutorial we have seen how to create different workflow to compute molecular properties using different quantum packages. You have seen how both simple and complex tasks can be transformed into workflows using *QMWorks* and perhaps how can include you own set of subroutines into the workflow "
   ]
  },
  {
   "cell_type": "markdown",
   "metadata": {},
   "source": [
    "## <font color='green'> Noodles and QMWorks</font>\n",
    "[Noodles]() is the engine of *QMWorks*, "
   ]
  }
 ],
 "metadata": {
  "kernelspec": {
   "display_name": "Python [conda env:qmflows]",
   "language": "python",
   "name": "conda-env-qmflows-py"
  },
  "language_info": {
   "codemirror_mode": {
    "name": "ipython",
    "version": 3
   },
   "file_extension": ".py",
   "mimetype": "text/x-python",
   "name": "python",
   "nbconvert_exporter": "python",
   "pygments_lexer": "ipython3",
   "version": "3.5.2"
  }
 },
 "nbformat": 4,
 "nbformat_minor": 1
}
