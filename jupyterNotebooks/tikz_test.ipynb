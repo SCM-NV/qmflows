{
 "cells": [
  {
   "cell_type": "code",
   "execution_count": 1,
   "metadata": {
    "collapsed": false
   },
   "outputs": [],
   "source": [
    "%load_ext tikzmagic"
   ]
  },
  {
   "cell_type": "code",
   "execution_count": 2,
   "metadata": {
    "collapsed": false
   },
   "outputs": [
    {
     "data": {
      "image/png": "[encoded data removed]"
     },
     "metadata": {},
     "output_type": "display_data"
    }
   ],
   "source": [
    "%tikz \\draw (0,0) rectangle (1,1); "
   ]
  },
  {
   "cell_type": "code",
   "execution_count": 3,
   "metadata": {
    "collapsed": false
   },
   "outputs": [
    {
     "data": {
      "text/latex": [
       "\\documentclass{standalone}\n",
       "\n",
       "\\usepackage{color}\n",
       "\\usepackage{tikz}\n",
       "\n",
       "\\usetikzlibrary{mindmap,trees,shapes,arrows}\n",
       "\n",
       "\\definecolor{forestgreen}{rgb}{0.13, 0.55, 0.13}\n",
       "\n",
       "\\begin{document}\n",
       "\n",
       "\\begin{figure}[!h]\n",
       "\\centering\n",
       "\\begin{tikzpicture}[scale=0.4, every node/.style={scale=0.4}]\n",
       "  \\path[mindmap,concept color=forestgreen,text=white]\n",
       "    node[concept] {\\huge{\\textbf{User\\\\Input}}}\n",
       "    [clockwise from=0]\n",
       "    child[concept color=forestgreen] { node [concept] {\\Large{\\textbf{Basis}}}\n",
       "      [clockwise from=0]\n",
       "      child { node [concept] {\\Large{\\textbf{TZP\\\\}} } }  \n",
       "    }\n",
       "    child[concept color=forestgreen] {\n",
       "      node[concept] {\\Large{\\textbf{DFT\\\\}}}\n",
       "      [clockwise from=45]\n",
       "      child { node[concept] {\\Large{\\textbf{SCF}} } }\n",
       "      child { node[concept] {\\Large{\\textbf{Opt}} } }\n",
       "      child { node[concept] {\\Large{\\textbf{Hess}}} }\n",
       "    }\n",
       "    child[concept color=forestgreen] { node[concept] {\\Large{\\textbf{NoSymm}}}\n",
       "    };\n",
       "\\end{tikzpicture}\n",
       "\\begin{tikzpicture}[scale=0.4, every node/.style={scale=0.4}]\n",
       "  \\path[mindmap,concept color=blue,text=white]\n",
       "    node[concept] {\\huge{\\textbf{Generic\\\\Template}}}\n",
       "    [clockwise from=0]\n",
       "    child[concept color=blue] { node [concept] {\\Large{\\textbf{Basis}}}\n",
       "      [clockwise from=0]\n",
       "      child { node [concept] {\\Large{\\textbf{DZP}} } }  \n",
       "    }\n",
       "    child[concept color=blue] { node[concept] {\\Large{\\textbf{Method}}}\n",
       "      [clockwise from=-90]\n",
       "      child { node [concept] {\\Large{\\textbf{DFT}} } \n",
       "          [clockwise from=0]\n",
       "          child { node [concept] {\\Large{\\textbf{PBE}} } }\n",
       "      }\n",
       "    }\n",
       "    child[concept color=blue] { node[concept] {\\Large{\\textbf{Charge}} } \n",
       "      [clockwise from=-90]\n",
       "      child { node [concept] {\\Large{\\textbf{0}} } }\n",
       "    };\n",
       "\\end{tikzpicture}\n",
       "\n",
       "\\end{figure}\n",
       "\n",
       "\n",
       "\\end{document}"
      ],
      "text/plain": [
       "<IPython.core.display.Latex object>"
      ]
     },
     "metadata": {},
     "output_type": "display_data"
    }
   ],
   "source": [
    "%%latex\n",
    "\\documentclass{standalone}\n",
    "\n",
    "\\usepackage{color}\n",
    "\\usepackage{tikz}\n",
    "\n",
    "\\usetikzlibrary{mindmap,trees,shapes,arrows}\n",
    "\n",
    "\\definecolor{forestgreen}{rgb}{0.13, 0.55, 0.13}\n",
    "\n",
    "\\begin{document}\n",
    "\n",
    "\\begin{figure}[!h]\n",
    "\\centering\n",
    "\\begin{tikzpicture}[scale=0.4, every node/.style={scale=0.4}]\n",
    "  \\path[mindmap,concept color=forestgreen,text=white]\n",
    "    node[concept] {\\huge{\\textbf{User\\\\Input}}}\n",
    "    [clockwise from=0]\n",
    "    child[concept color=forestgreen] { node [concept] {\\Large{\\textbf{Basis}}}\n",
    "      [clockwise from=0]\n",
    "      child { node [concept] {\\Large{\\textbf{TZP\\\\}} } }  \n",
    "    }\n",
    "    child[concept color=forestgreen] {\n",
    "      node[concept] {\\Large{\\textbf{DFT\\\\}}}\n",
    "      [clockwise from=45]\n",
    "      child { node[concept] {\\Large{\\textbf{SCF}} } }\n",
    "      child { node[concept] {\\Large{\\textbf{Opt}} } }\n",
    "      child { node[concept] {\\Large{\\textbf{Hess}}} }\n",
    "    }\n",
    "    child[concept color=forestgreen] { node[concept] {\\Large{\\textbf{NoSymm}}}\n",
    "    };\n",
    "\\end{tikzpicture}\n",
    "\\begin{tikzpicture}[scale=0.4, every node/.style={scale=0.4}]\n",
    "  \\path[mindmap,concept color=blue,text=white]\n",
    "    node[concept] {\\huge{\\textbf{Generic\\\\Template}}}\n",
    "    [clockwise from=0]\n",
    "    child[concept color=blue] { node [concept] {\\Large{\\textbf{Basis}}}\n",
    "      [clockwise from=0]\n",
    "      child { node [concept] {\\Large{\\textbf{DZP}} } }  \n",
    "    }\n",
    "    child[concept color=blue] { node[concept] {\\Large{\\textbf{Method}}}\n",
    "      [clockwise from=-90]\n",
    "      child { node [concept] {\\Large{\\textbf{DFT}} } \n",
    "          [clockwise from=0]\n",
    "          child { node [concept] {\\Large{\\textbf{PBE}} } }\n",
    "      }\n",
    "    }\n",
    "    child[concept color=blue] { node[concept] {\\Large{\\textbf{Charge}} } \n",
    "      [clockwise from=-90]\n",
    "      child { node [concept] {\\Large{\\textbf{0}} } }\n",
    "    };\n",
    "\\end{tikzpicture}\n",
    "\n",
    "\\end{figure}\n",
    "\n",
    "\n",
    "\\end{document}"
   ]
  }
 ],
 "metadata": {
  "kernelspec": {
   "display_name": "Python 3",
   "language": "python",
   "name": "python3"
  },
  "language_info": {
   "codemirror_mode": {
    "name": "ipython",
    "version": 3
   },
   "file_extension": ".py",
   "mimetype": "text/x-python",
   "name": "python",
   "nbconvert_exporter": "python",
   "pygments_lexer": "ipython3",
   "version": "3.5.2"
  }
 },
 "nbformat": 4,
 "nbformat_minor": 1
}
